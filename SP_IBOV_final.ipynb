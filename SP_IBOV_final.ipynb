{
  "nbformat": 4,
  "nbformat_minor": 0,
  "metadata": {
    "colab": {
      "name": "SP_IBOV_final.ipynb",
      "provenance": [],
      "collapsed_sections": [],
      "include_colab_link": true
    },
    "kernelspec": {
      "name": "python3",
      "display_name": "Python 3"
    }
  },
  "cells": [
    {
      "cell_type": "markdown",
      "metadata": {
        "id": "view-in-github",
        "colab_type": "text"
      },
      "source": [
        "<a href=\"https://colab.research.google.com/github/hquint/Quant/blob/master/SP_IBOV_final.ipynb\" target=\"_parent\"><img src=\"https://colab.research.google.com/assets/colab-badge.svg\" alt=\"Open In Colab\"/></a>"
      ]
    },
    {
      "cell_type": "markdown",
      "metadata": {
        "id": "nN-rLcK0AnJI",
        "colab_type": "text"
      },
      "source": [
        "# Você sabe como o S&P e a IBOVESPA se comportam antes e depois das eleições para presidente dos EUA?"
      ]
    },
    {
      "cell_type": "markdown",
      "metadata": {
        "id": "vDYUgceseQX6",
        "colab_type": "text"
      },
      "source": [
        "Chegando perto de mais uma eleição para presidente dos EUA, os investidores pessoa física ficam na dúvida do que fazer com o capital investido durante esse período. Intuitivamente, o pensamento é que devemos nos proteger em um período tão volátil como esse, certo? Se sim, e com base nas últimas eleições, quando devemos começar a nos preocupar? \n",
        "\n",
        "Separei para analisarmos as últimas três eleições onde tivemos mudança de partido no poder em relação ao ano anterior:\n",
        "\n",
        "1. Em 2000, os republicanos retornaram ao poder após dois anos de mandato do democrata Bill Clinton com a vitória de George W. Bush, que levou a melhor contra Al Gore (Aquecimento Global).\n",
        "2. Em 2008, após dois anos de mandato de Bush, Barack Obama venceu as eleições contra o republicano John McCain, retornando a governança do país para as mãos dos democratas. \n",
        "3. Por último, em 2016, o atual presidente Donald Trump colocou os republicanos de volta no poder ao vencer a então favorita Hillary Clinton, em uma das maiores surpresas (para a mídia) das últimas eleições.\n",
        "\n",
        "Durante essas trocas de partidos no poder, como será que a bolsa americana (S&P 500) e a bolsa brasileira (Ibovespa) performaram nos meses anteriores e imediatamente após as eleições? Preparei um simples código em Python para compararmos as duas bolsas e o resultado pode ser visto abaixo:\n",
        "\n"
      ]
    },
    {
      "cell_type": "markdown",
      "metadata": {
        "id": "oBinxunClEn3",
        "colab_type": "text"
      },
      "source": [
        "# Código"
      ]
    },
    {
      "cell_type": "code",
      "metadata": {
        "id": "woQWqgUDoH_m",
        "colab_type": "code",
        "colab": {
          "base_uri": "https://localhost:8080/",
          "height": 433
        },
        "outputId": "d8bd7d36-e806-42ae-b5b7-e0aab27b077f"
      },
      "source": [
        "# First let's start importing some libraries and pip install the yahoo finance \n",
        "import numpy as np\n",
        "import pandas as pd\n",
        "import matplotlib.pyplot as plt\n",
        "import seaborn as sns\n",
        "import plotly.graph_objects as go\n",
        "from plotly.subplots import make_subplots\n",
        "\n",
        "!pip install yfinance \n",
        "import yfinance as yf\n"
      ],
      "execution_count": null,
      "outputs": [
        {
          "output_type": "stream",
          "text": [
            "/usr/local/lib/python3.6/dist-packages/statsmodels/tools/_testing.py:19: FutureWarning: pandas.util.testing is deprecated. Use the functions in the public API at pandas.testing instead.\n",
            "  import pandas.util.testing as tm\n"
          ],
          "name": "stderr"
        },
        {
          "output_type": "stream",
          "text": [
            "Collecting yfinance\n",
            "  Downloading https://files.pythonhosted.org/packages/c2/31/8b374a12b90def92a4e27d0fc595fc43635f395984e36a075244d98bd265/yfinance-0.1.54.tar.gz\n",
            "Requirement already satisfied: pandas>=0.24 in /usr/local/lib/python3.6/dist-packages (from yfinance) (1.0.5)\n",
            "Requirement already satisfied: numpy>=1.15 in /usr/local/lib/python3.6/dist-packages (from yfinance) (1.18.5)\n",
            "Requirement already satisfied: requests>=2.20 in /usr/local/lib/python3.6/dist-packages (from yfinance) (2.23.0)\n",
            "Requirement already satisfied: multitasking>=0.0.7 in /usr/local/lib/python3.6/dist-packages (from yfinance) (0.0.9)\n",
            "Requirement already satisfied: python-dateutil>=2.6.1 in /usr/local/lib/python3.6/dist-packages (from pandas>=0.24->yfinance) (2.8.1)\n",
            "Requirement already satisfied: pytz>=2017.2 in /usr/local/lib/python3.6/dist-packages (from pandas>=0.24->yfinance) (2018.9)\n",
            "Requirement already satisfied: idna<3,>=2.5 in /usr/local/lib/python3.6/dist-packages (from requests>=2.20->yfinance) (2.10)\n",
            "Requirement already satisfied: urllib3!=1.25.0,!=1.25.1,<1.26,>=1.21.1 in /usr/local/lib/python3.6/dist-packages (from requests>=2.20->yfinance) (1.24.3)\n",
            "Requirement already satisfied: chardet<4,>=3.0.2 in /usr/local/lib/python3.6/dist-packages (from requests>=2.20->yfinance) (3.0.4)\n",
            "Requirement already satisfied: certifi>=2017.4.17 in /usr/local/lib/python3.6/dist-packages (from requests>=2.20->yfinance) (2020.6.20)\n",
            "Requirement already satisfied: six>=1.5 in /usr/local/lib/python3.6/dist-packages (from python-dateutil>=2.6.1->pandas>=0.24->yfinance) (1.15.0)\n",
            "Building wheels for collected packages: yfinance\n",
            "  Building wheel for yfinance (setup.py) ... \u001b[?25l\u001b[?25hdone\n",
            "  Created wheel for yfinance: filename=yfinance-0.1.54-py2.py3-none-any.whl size=22409 sha256=4f4379121bad4ad51da9467295c6ff78a5b3423d1b9d0ea861e49074a9465484\n",
            "  Stored in directory: /root/.cache/pip/wheels/f9/e3/5b/ec24dd2984b12d61e0abf26289746c2436a0e7844f26f2515c\n",
            "Successfully built yfinance\n",
            "Installing collected packages: yfinance\n",
            "Successfully installed yfinance-0.1.54\n"
          ],
          "name": "stdout"
        }
      ]
    },
    {
      "cell_type": "code",
      "metadata": {
        "id": "JfBzXptWAirN",
        "colab_type": "code",
        "colab": {}
      },
      "source": [
        "# Defining a function to extract the data and plot the curves together with the \n",
        "# correlation of that time period. You just need to run this cell, \n",
        "# no need to change anything else.\n",
        "\n",
        "def plot_data(year):\n",
        "\n",
        "  # Getting the election day \n",
        "  if year == '1996':\n",
        "    day   = 5;\n",
        "  if year == '2000':\n",
        "    day = 7;\n",
        "  elif year == '2004':\n",
        "    day = 2;\n",
        "  elif year == '2008':\n",
        "    day = 4;\n",
        "  elif year == '2012':\n",
        "    day = 6;\n",
        "  elif year == '2016':\n",
        "    day = 8;\n",
        "  elif year == '2020':\n",
        "    day = 3;\n",
        "  \n",
        "  # define a delta to shift the 'election day' text in the plot\n",
        "  delta = 15;\n",
        "\n",
        "\n",
        "  # Let's define the tickers (the index to import) and the time (between first \n",
        "  # of August, ie 3 months before the election until the end of the year.)\n",
        "  # Remember that the Americans election are held always on Tuesday after the\n",
        "  # first Monday of November. In other words, it can be the earliest on November,\n",
        "  # 2nd or the latest on November 8th.\n",
        "\n",
        "  tickers=['^BVSP','^GSPC']\n",
        "  data = yf.download(tickers, start=year+'-08-01', end=year+'-12-31')['Close']\n",
        "\n",
        "  # Improving columns name (not necessary)\n",
        "  data.columns=['IBOV','SP'];\n",
        "\n",
        "  # Since the database usually presents missing data, there are different ways \n",
        "  # to deal with this issue. In this case, we choose to interpolate the data to \n",
        "  # obtain the missing values, without losing generality.\n",
        "  data=data.interpolate(method='polynomial', order=2);\n",
        "\n",
        "  # Plotting the IBOV and SP500 data in the same graph, highlighting the election day.\n",
        "  fig = make_subplots(specs=[[{\"secondary_y\": True}]])\n",
        "\n",
        "\n",
        "  fig.add_trace( \n",
        "      go.Scatter(name='IBOV',x=data.index, y=data.IBOV, \n",
        "                 mode=\"lines+markers\", marker=dict(size=5, color=\"Darkgreen\")),\n",
        "      secondary_y=False,\n",
        "                )\n",
        "\n",
        "  fig.add_scatter(name='S&P500', x=data.index, y=data.SP,\n",
        "                  mode=\"lines+markers\", marker=dict(size=5, color=\"Mediumblue\"),\n",
        "      secondary_y=True,\n",
        "                 )\n",
        "\n",
        "  # Create scatter trace of text labels\n",
        "  fig.add_trace(go.Scatter(\n",
        "      x=[year+\"-11-\"+str(day+delta)],\n",
        "      y=[data[\"IBOV\"].max()],\n",
        "      text=[\"<b>Election day</b>\"],\n",
        "      mode=\"text\",\n",
        "      showlegend=False\n",
        "  ))\n",
        "\n",
        "\n",
        "\n",
        "  # Add shapes\n",
        "  fig.add_shape(\n",
        "        # Line Vertical\n",
        "        dict(\n",
        "            type=\"line\",\n",
        "            xref=\"x\",\n",
        "            yref=\"paper\",\n",
        "            x0=year+\"-11-\"+str(day),\n",
        "            y0=0,\n",
        "            x1=year+\"-11-\"+str(day),\n",
        "            y1=1,\n",
        "            line=dict(\n",
        "                color=\"Red\",\n",
        "                width=3,\n",
        "                dash=\"dot\"\n",
        "            )\n",
        "  ))\n",
        "\n",
        "\n",
        "  fig.update_layout(\n",
        "     title_text=\"<b>US presidential election</b>\", \n",
        "     title_x=0.5\n",
        "    )\n",
        "\n",
        "  fig.update_xaxes(title_text=\"<b>Day</b>\")\n",
        "  fig.update_yaxes(title_text=\"<b>IBOVESPA</b> \", secondary_y=False, color=\"Darkgreen\")\n",
        "  fig.update_yaxes(title_text=\"<b>S&P 500</b> \", secondary_y=True, color=\"Mediumblue\")\n",
        "  #fig.update_layout(legend=dict(x=0.01, y=0.95))\n",
        "  fig.update_layout(showlegend=False,width=700,height=500)\n",
        "\n",
        "\n",
        "  #Plotando a correlacao\n",
        "  ax = plt.axes()\n",
        "  sns.heatmap(data.corr(), annot=True, cmap='bwr',vmin=-1, vmax=1, square=True, \n",
        "              linewidths=.5, linecolor='Black', cbar_kws={\"shrink\": .5},\n",
        "              annot_kws={\"color\": \"Black\",\"weight\": \"bold\"})\n",
        "  ax.set_title(\"Correlation IBOV x SP in \"+year, weight='bold')\n",
        "\n",
        "\n",
        "  return fig.show();"
      ],
      "execution_count": null,
      "outputs": []
    },
    {
      "cell_type": "markdown",
      "metadata": {
        "id": "foxCaVovk90x",
        "colab_type": "text"
      },
      "source": [
        "# Resultados:"
      ]
    },
    {
      "cell_type": "code",
      "metadata": {
        "id": "CQGfD-yCjWvD",
        "colab_type": "code",
        "colab": {
          "base_uri": "https://localhost:8080/",
          "height": 799
        },
        "outputId": "9b6a8c6e-3388-4a2c-d9ac-c20f6cf9c065"
      },
      "source": [
        "# Now, let's define a year to our analysis. The available data during the election's are:\n",
        "# 1996, 2000, 2004, 2008, 2012, 2016, 2020\n",
        "\n",
        "# We start our analysis in 2000\n",
        "year = '2000';\n",
        "plot_data(year)"
      ],
      "execution_count": null,
      "outputs": [
        {
          "output_type": "stream",
          "text": [
            "[*********************100%***********************]  2 of 2 completed\n"
          ],
          "name": "stdout"
        },
        {
          "output_type": "display_data",
          "data": {
            "text/html": [
              "<html>\n",
              "<head><meta charset=\"utf-8\" /></head>\n",
              "<body>\n",
              "    <div>\n",
              "            <script src=\"https://cdnjs.cloudflare.com/ajax/libs/mathjax/2.7.5/MathJax.js?config=TeX-AMS-MML_SVG\"></script><script type=\"text/javascript\">if (window.MathJax) {MathJax.Hub.Config({SVG: {font: \"STIX-Web\"}});}</script>\n",
              "                <script type=\"text/javascript\">window.PlotlyConfig = {MathJaxConfig: 'local'};</script>\n",
              "        <script src=\"https://cdn.plot.ly/plotly-latest.min.js\"></script>    \n",
              "            <div id=\"2b22777f-78c0-490c-8e25-730cfc8235dd\" class=\"plotly-graph-div\" style=\"height:500px; width:700px;\"></div>\n",
              "            <script type=\"text/javascript\">\n",
              "                \n",
              "                    window.PLOTLYENV=window.PLOTLYENV || {};\n",
              "                    \n",
              "                if (document.getElementById(\"2b22777f-78c0-490c-8e25-730cfc8235dd\")) {\n",
              "                    Plotly.newPlot(\n",
              "                        '2b22777f-78c0-490c-8e25-730cfc8235dd',\n",
              "                        [{\"marker\": {\"color\": \"Darkgreen\", \"size\": 5}, \"mode\": \"lines+markers\", \"name\": \"IBOV\", \"type\": \"scatter\", \"x\": [\"2000-08-01T00:00:00\", \"2000-08-02T00:00:00\", \"2000-08-03T00:00:00\", \"2000-08-04T00:00:00\", \"2000-08-07T00:00:00\", \"2000-08-08T00:00:00\", \"2000-08-09T00:00:00\", \"2000-08-10T00:00:00\", \"2000-08-11T00:00:00\", \"2000-08-14T00:00:00\", \"2000-08-15T00:00:00\", \"2000-08-16T00:00:00\", \"2000-08-17T00:00:00\", \"2000-08-18T00:00:00\", \"2000-08-21T00:00:00\", \"2000-08-22T00:00:00\", \"2000-08-23T00:00:00\", \"2000-08-24T00:00:00\", \"2000-08-25T00:00:00\", \"2000-08-28T00:00:00\", \"2000-08-29T00:00:00\", \"2000-08-30T00:00:00\", \"2000-08-31T00:00:00\", \"2000-09-01T00:00:00\", \"2000-09-04T00:00:00\", \"2000-09-05T00:00:00\", \"2000-09-06T00:00:00\", \"2000-09-07T00:00:00\", \"2000-09-08T00:00:00\", \"2000-09-11T00:00:00\", \"2000-09-12T00:00:00\", \"2000-09-13T00:00:00\", \"2000-09-14T00:00:00\", \"2000-09-15T00:00:00\", \"2000-09-18T00:00:00\", \"2000-09-19T00:00:00\", \"2000-09-20T00:00:00\", \"2000-09-21T00:00:00\", \"2000-09-22T00:00:00\", \"2000-09-25T00:00:00\", \"2000-09-26T00:00:00\", \"2000-09-27T00:00:00\", \"2000-09-28T00:00:00\", \"2000-09-29T00:00:00\", \"2000-10-02T00:00:00\", \"2000-10-03T00:00:00\", \"2000-10-04T00:00:00\", \"2000-10-05T00:00:00\", \"2000-10-06T00:00:00\", \"2000-10-09T00:00:00\", \"2000-10-10T00:00:00\", \"2000-10-11T00:00:00\", \"2000-10-12T00:00:00\", \"2000-10-13T00:00:00\", \"2000-10-16T00:00:00\", \"2000-10-17T00:00:00\", \"2000-10-18T00:00:00\", \"2000-10-19T00:00:00\", \"2000-10-20T00:00:00\", \"2000-10-23T00:00:00\", \"2000-10-24T00:00:00\", \"2000-10-25T00:00:00\", \"2000-10-26T00:00:00\", \"2000-10-27T00:00:00\", \"2000-10-30T00:00:00\", \"2000-10-31T00:00:00\", \"2000-11-01T00:00:00\", \"2000-11-02T00:00:00\", \"2000-11-03T00:00:00\", \"2000-11-06T00:00:00\", \"2000-11-07T00:00:00\", \"2000-11-08T00:00:00\", \"2000-11-09T00:00:00\", \"2000-11-10T00:00:00\", \"2000-11-13T00:00:00\", \"2000-11-14T00:00:00\", \"2000-11-15T00:00:00\", \"2000-11-16T00:00:00\", \"2000-11-17T00:00:00\", \"2000-11-20T00:00:00\", \"2000-11-21T00:00:00\", \"2000-11-22T00:00:00\", \"2000-11-23T00:00:00\", \"2000-11-24T00:00:00\", \"2000-11-27T00:00:00\", \"2000-11-28T00:00:00\", \"2000-11-29T00:00:00\", \"2000-11-30T00:00:00\", \"2000-12-01T00:00:00\", \"2000-12-04T00:00:00\", \"2000-12-05T00:00:00\", \"2000-12-06T00:00:00\", \"2000-12-07T00:00:00\", \"2000-12-08T00:00:00\", \"2000-12-11T00:00:00\", \"2000-12-12T00:00:00\", \"2000-12-13T00:00:00\", \"2000-12-14T00:00:00\", \"2000-12-15T00:00:00\", \"2000-12-18T00:00:00\", \"2000-12-19T00:00:00\", \"2000-12-20T00:00:00\", \"2000-12-21T00:00:00\", \"2000-12-22T00:00:00\", \"2000-12-26T00:00:00\", \"2000-12-27T00:00:00\", \"2000-12-28T00:00:00\", \"2000-12-29T00:00:00\"], \"xaxis\": \"x\", \"y\": [16290.0, 16314.0, 16721.0, 16761.0, 16996.0, 16885.0, 16534.0, 16835.0, 17395.0, 17811.0, 17744.0, 17331.0, 17703.0, 17314.0, 17083.0, 17224.0, 17450.0, 17311.0, 17643.0, 17460.0, 17355.0, 17414.0, 17347.0, 17577.0, 17613.0, 17425.0, 17590.0, 17556.486436408344, 17433.0, 17288.0, 16883.0, 16999.0, 16769.0, 16563.0, 15913.0, 16188.0, 16078.0, 16146.0, 16353.0, 16319.0, 16255.0, 15848.0, 16014.0, 15928.0, 15559.0, 15633.0, 15876.0, 16362.0, 15946.0, 15855.0, 15747.0, 15526.0, 15411.471334471964, 15385.0, 15242.0, 14870.0, 14421.0, 14845.0, 14529.0, 13990.0, 13799.0, 13665.0, 14223.0, 14692.0, 14891.0, 14867.0, 14791.0, 14651.583743644998, 14534.0, 14801.0, 14969.0, 14656.0, 14524.0, 14626.0, 14372.0, 14540.0, 14583.852422979166, 14490.0, 14323.0, 14500.0, 14784.0, 14577.0, 14314.0, 14336.0, 14008.0, 13914.0, 13788.0, 13287.0, 13437.0, 13510.0, 14182.0, 13945.0, 14460.0, 14983.0, 15188.0, 14906.0, 15291.0, 15259.0, 14988.0, 15083.0, 15336.0, 14622.0, 14505.0, 14652.0, 14795.0, 15186.0, 15259.0, null], \"yaxis\": \"y\"}, {\"marker\": {\"color\": \"Mediumblue\", \"size\": 5}, \"mode\": \"lines+markers\", \"name\": \"S&P500\", \"type\": \"scatter\", \"x\": [\"2000-08-01T00:00:00\", \"2000-08-02T00:00:00\", \"2000-08-03T00:00:00\", \"2000-08-04T00:00:00\", \"2000-08-07T00:00:00\", \"2000-08-08T00:00:00\", \"2000-08-09T00:00:00\", \"2000-08-10T00:00:00\", \"2000-08-11T00:00:00\", \"2000-08-14T00:00:00\", \"2000-08-15T00:00:00\", \"2000-08-16T00:00:00\", \"2000-08-17T00:00:00\", \"2000-08-18T00:00:00\", \"2000-08-21T00:00:00\", \"2000-08-22T00:00:00\", \"2000-08-23T00:00:00\", \"2000-08-24T00:00:00\", \"2000-08-25T00:00:00\", \"2000-08-28T00:00:00\", \"2000-08-29T00:00:00\", \"2000-08-30T00:00:00\", \"2000-08-31T00:00:00\", \"2000-09-01T00:00:00\", \"2000-09-04T00:00:00\", \"2000-09-05T00:00:00\", \"2000-09-06T00:00:00\", \"2000-09-07T00:00:00\", \"2000-09-08T00:00:00\", \"2000-09-11T00:00:00\", \"2000-09-12T00:00:00\", \"2000-09-13T00:00:00\", \"2000-09-14T00:00:00\", \"2000-09-15T00:00:00\", \"2000-09-18T00:00:00\", \"2000-09-19T00:00:00\", \"2000-09-20T00:00:00\", \"2000-09-21T00:00:00\", \"2000-09-22T00:00:00\", \"2000-09-25T00:00:00\", \"2000-09-26T00:00:00\", \"2000-09-27T00:00:00\", \"2000-09-28T00:00:00\", \"2000-09-29T00:00:00\", \"2000-10-02T00:00:00\", \"2000-10-03T00:00:00\", \"2000-10-04T00:00:00\", \"2000-10-05T00:00:00\", \"2000-10-06T00:00:00\", \"2000-10-09T00:00:00\", \"2000-10-10T00:00:00\", \"2000-10-11T00:00:00\", \"2000-10-12T00:00:00\", \"2000-10-13T00:00:00\", \"2000-10-16T00:00:00\", \"2000-10-17T00:00:00\", \"2000-10-18T00:00:00\", \"2000-10-19T00:00:00\", \"2000-10-20T00:00:00\", \"2000-10-23T00:00:00\", \"2000-10-24T00:00:00\", \"2000-10-25T00:00:00\", \"2000-10-26T00:00:00\", \"2000-10-27T00:00:00\", \"2000-10-30T00:00:00\", \"2000-10-31T00:00:00\", \"2000-11-01T00:00:00\", \"2000-11-02T00:00:00\", \"2000-11-03T00:00:00\", \"2000-11-06T00:00:00\", \"2000-11-07T00:00:00\", \"2000-11-08T00:00:00\", \"2000-11-09T00:00:00\", \"2000-11-10T00:00:00\", \"2000-11-13T00:00:00\", \"2000-11-14T00:00:00\", \"2000-11-15T00:00:00\", \"2000-11-16T00:00:00\", \"2000-11-17T00:00:00\", \"2000-11-20T00:00:00\", \"2000-11-21T00:00:00\", \"2000-11-22T00:00:00\", \"2000-11-23T00:00:00\", \"2000-11-24T00:00:00\", \"2000-11-27T00:00:00\", \"2000-11-28T00:00:00\", \"2000-11-29T00:00:00\", \"2000-11-30T00:00:00\", \"2000-12-01T00:00:00\", \"2000-12-04T00:00:00\", \"2000-12-05T00:00:00\", \"2000-12-06T00:00:00\", \"2000-12-07T00:00:00\", \"2000-12-08T00:00:00\", \"2000-12-11T00:00:00\", \"2000-12-12T00:00:00\", \"2000-12-13T00:00:00\", \"2000-12-14T00:00:00\", \"2000-12-15T00:00:00\", \"2000-12-18T00:00:00\", \"2000-12-19T00:00:00\", \"2000-12-20T00:00:00\", \"2000-12-21T00:00:00\", \"2000-12-22T00:00:00\", \"2000-12-26T00:00:00\", \"2000-12-27T00:00:00\", \"2000-12-28T00:00:00\", \"2000-12-29T00:00:00\"], \"xaxis\": \"x\", \"y\": [1438.0999755859375, 1438.699951171875, 1452.56005859375, 1462.9300537109375, 1479.3199462890625, 1482.800048828125, 1472.8699951171875, 1460.25, 1471.8399658203125, 1491.56005859375, 1484.4300537109375, 1479.8499755859375, 1496.0699462890625, 1491.719970703125, 1499.47998046875, 1498.1300048828125, 1505.969970703125, 1508.31005859375, 1506.449951171875, 1514.0899658203125, 1509.8399658203125, 1502.5899658203125, 1517.6800537109375, 1520.77001953125, 1519.1949955736811, 1507.0799560546875, 1492.25, 1502.510009765625, 1494.5, 1489.260009765625, 1481.989990234375, 1484.9100341796875, 1480.8699951171875, 1465.81005859375, 1444.510009765625, 1459.9000244140625, 1451.3399658203125, 1449.050048828125, 1448.719970703125, 1439.030029296875, 1427.2099609375, 1426.5699462890625, 1458.2900390625, 1436.510009765625, 1436.22998046875, 1426.4599609375, 1434.3199462890625, 1436.280029296875, 1408.989990234375, 1402.030029296875, 1387.02001953125, 1364.5899658203125, 1329.780029296875, 1374.1700439453125, 1374.6199951171875, 1349.969970703125, 1342.1300048828125, 1388.760009765625, 1396.9300537109375, 1395.780029296875, 1398.1300048828125, 1364.9000244140625, 1364.43994140625, 1379.5799560546875, 1398.6600341796875, 1429.4000244140625, 1421.219970703125, 1428.3199462890625, 1426.68994140625, 1432.18994140625, 1431.8699951171875, 1409.280029296875, 1400.1400146484375, 1365.97998046875, 1351.260009765625, 1382.949951171875, 1389.81005859375, 1372.3199462890625, 1367.719970703125, 1342.6199951171875, 1347.3499755859375, 1322.3599853515625, 1324.2954056189842, 1341.77001953125, 1348.969970703125, 1336.0899658203125, 1341.9300537109375, 1314.949951171875, 1315.22998046875, 1324.969970703125, 1376.5400390625, 1351.4599609375, 1343.550048828125, 1369.8900146484375, 1380.199951171875, 1371.1800537109375, 1359.989990234375, 1340.9300537109375, 1312.1500244140625, 1322.739990234375, 1305.5999755859375, 1264.739990234375, 1274.8599853515625, 1305.949951171875, 1315.18994140625, 1328.9200439453125, 1334.219970703125, 1320.280029296875], \"yaxis\": \"y2\"}, {\"mode\": \"text\", \"showlegend\": false, \"text\": [\"<b>Election day</b>\"], \"type\": \"scatter\", \"x\": [\"2000-11-22\"], \"y\": [17811.0]}],\n",
              "                        {\"height\": 500, \"shapes\": [{\"line\": {\"color\": \"Red\", \"dash\": \"dot\", \"width\": 3}, \"type\": \"line\", \"x0\": \"2000-11-7\", \"x1\": \"2000-11-7\", \"xref\": \"x\", \"y0\": 0, \"y1\": 1, \"yref\": \"paper\"}], \"showlegend\": false, \"template\": {\"data\": {\"bar\": [{\"error_x\": {\"color\": \"#2a3f5f\"}, \"error_y\": {\"color\": \"#2a3f5f\"}, \"marker\": {\"line\": {\"color\": \"#E5ECF6\", \"width\": 0.5}}, \"type\": \"bar\"}], \"barpolar\": [{\"marker\": {\"line\": {\"color\": \"#E5ECF6\", \"width\": 0.5}}, \"type\": \"barpolar\"}], \"carpet\": [{\"aaxis\": {\"endlinecolor\": \"#2a3f5f\", \"gridcolor\": \"white\", \"linecolor\": \"white\", \"minorgridcolor\": \"white\", \"startlinecolor\": \"#2a3f5f\"}, \"baxis\": {\"endlinecolor\": \"#2a3f5f\", \"gridcolor\": \"white\", \"linecolor\": \"white\", \"minorgridcolor\": \"white\", \"startlinecolor\": \"#2a3f5f\"}, \"type\": \"carpet\"}], \"choropleth\": [{\"colorbar\": {\"outlinewidth\": 0, \"ticks\": \"\"}, \"type\": \"choropleth\"}], \"contour\": [{\"colorbar\": {\"outlinewidth\": 0, \"ticks\": \"\"}, \"colorscale\": [[0.0, \"#0d0887\"], [0.1111111111111111, \"#46039f\"], [0.2222222222222222, \"#7201a8\"], [0.3333333333333333, \"#9c179e\"], [0.4444444444444444, \"#bd3786\"], [0.5555555555555556, \"#d8576b\"], [0.6666666666666666, \"#ed7953\"], [0.7777777777777778, \"#fb9f3a\"], [0.8888888888888888, \"#fdca26\"], [1.0, \"#f0f921\"]], \"type\": \"contour\"}], \"contourcarpet\": [{\"colorbar\": {\"outlinewidth\": 0, \"ticks\": \"\"}, \"type\": \"contourcarpet\"}], \"heatmap\": [{\"colorbar\": {\"outlinewidth\": 0, \"ticks\": \"\"}, \"colorscale\": [[0.0, \"#0d0887\"], [0.1111111111111111, \"#46039f\"], [0.2222222222222222, \"#7201a8\"], [0.3333333333333333, \"#9c179e\"], [0.4444444444444444, \"#bd3786\"], [0.5555555555555556, \"#d8576b\"], [0.6666666666666666, \"#ed7953\"], [0.7777777777777778, \"#fb9f3a\"], [0.8888888888888888, \"#fdca26\"], [1.0, \"#f0f921\"]], \"type\": \"heatmap\"}], \"heatmapgl\": [{\"colorbar\": {\"outlinewidth\": 0, \"ticks\": \"\"}, \"colorscale\": [[0.0, \"#0d0887\"], [0.1111111111111111, \"#46039f\"], [0.2222222222222222, \"#7201a8\"], [0.3333333333333333, \"#9c179e\"], [0.4444444444444444, \"#bd3786\"], [0.5555555555555556, \"#d8576b\"], [0.6666666666666666, \"#ed7953\"], [0.7777777777777778, \"#fb9f3a\"], [0.8888888888888888, \"#fdca26\"], [1.0, \"#f0f921\"]], \"type\": \"heatmapgl\"}], \"histogram\": [{\"marker\": {\"colorbar\": {\"outlinewidth\": 0, \"ticks\": \"\"}}, \"type\": \"histogram\"}], \"histogram2d\": [{\"colorbar\": {\"outlinewidth\": 0, \"ticks\": \"\"}, \"colorscale\": [[0.0, \"#0d0887\"], [0.1111111111111111, \"#46039f\"], [0.2222222222222222, \"#7201a8\"], [0.3333333333333333, \"#9c179e\"], [0.4444444444444444, \"#bd3786\"], [0.5555555555555556, \"#d8576b\"], [0.6666666666666666, \"#ed7953\"], [0.7777777777777778, \"#fb9f3a\"], [0.8888888888888888, \"#fdca26\"], [1.0, \"#f0f921\"]], \"type\": \"histogram2d\"}], \"histogram2dcontour\": [{\"colorbar\": {\"outlinewidth\": 0, \"ticks\": \"\"}, \"colorscale\": [[0.0, \"#0d0887\"], [0.1111111111111111, \"#46039f\"], [0.2222222222222222, \"#7201a8\"], [0.3333333333333333, \"#9c179e\"], [0.4444444444444444, \"#bd3786\"], [0.5555555555555556, \"#d8576b\"], [0.6666666666666666, \"#ed7953\"], [0.7777777777777778, \"#fb9f3a\"], [0.8888888888888888, \"#fdca26\"], [1.0, \"#f0f921\"]], \"type\": \"histogram2dcontour\"}], \"mesh3d\": [{\"colorbar\": {\"outlinewidth\": 0, \"ticks\": \"\"}, \"type\": \"mesh3d\"}], \"parcoords\": [{\"line\": {\"colorbar\": {\"outlinewidth\": 0, \"ticks\": \"\"}}, \"type\": \"parcoords\"}], \"pie\": [{\"automargin\": true, \"type\": \"pie\"}], \"scatter\": [{\"marker\": {\"colorbar\": {\"outlinewidth\": 0, \"ticks\": \"\"}}, \"type\": \"scatter\"}], \"scatter3d\": [{\"line\": {\"colorbar\": {\"outlinewidth\": 0, \"ticks\": \"\"}}, \"marker\": {\"colorbar\": {\"outlinewidth\": 0, \"ticks\": \"\"}}, \"type\": \"scatter3d\"}], \"scattercarpet\": [{\"marker\": {\"colorbar\": {\"outlinewidth\": 0, \"ticks\": \"\"}}, \"type\": \"scattercarpet\"}], \"scattergeo\": [{\"marker\": {\"colorbar\": {\"outlinewidth\": 0, \"ticks\": \"\"}}, \"type\": \"scattergeo\"}], \"scattergl\": [{\"marker\": {\"colorbar\": {\"outlinewidth\": 0, \"ticks\": \"\"}}, \"type\": \"scattergl\"}], \"scattermapbox\": [{\"marker\": {\"colorbar\": {\"outlinewidth\": 0, \"ticks\": \"\"}}, \"type\": \"scattermapbox\"}], \"scatterpolar\": [{\"marker\": {\"colorbar\": {\"outlinewidth\": 0, \"ticks\": \"\"}}, \"type\": \"scatterpolar\"}], \"scatterpolargl\": [{\"marker\": {\"colorbar\": {\"outlinewidth\": 0, \"ticks\": \"\"}}, \"type\": \"scatterpolargl\"}], \"scatterternary\": [{\"marker\": {\"colorbar\": {\"outlinewidth\": 0, \"ticks\": \"\"}}, \"type\": \"scatterternary\"}], \"surface\": [{\"colorbar\": {\"outlinewidth\": 0, \"ticks\": \"\"}, \"colorscale\": [[0.0, \"#0d0887\"], [0.1111111111111111, \"#46039f\"], [0.2222222222222222, \"#7201a8\"], [0.3333333333333333, \"#9c179e\"], [0.4444444444444444, \"#bd3786\"], [0.5555555555555556, \"#d8576b\"], [0.6666666666666666, \"#ed7953\"], [0.7777777777777778, \"#fb9f3a\"], [0.8888888888888888, \"#fdca26\"], [1.0, \"#f0f921\"]], \"type\": \"surface\"}], \"table\": [{\"cells\": {\"fill\": {\"color\": \"#EBF0F8\"}, \"line\": {\"color\": \"white\"}}, \"header\": {\"fill\": {\"color\": \"#C8D4E3\"}, \"line\": {\"color\": \"white\"}}, \"type\": \"table\"}]}, \"layout\": {\"annotationdefaults\": {\"arrowcolor\": \"#2a3f5f\", \"arrowhead\": 0, \"arrowwidth\": 1}, \"coloraxis\": {\"colorbar\": {\"outlinewidth\": 0, \"ticks\": \"\"}}, \"colorscale\": {\"diverging\": [[0, \"#8e0152\"], [0.1, \"#c51b7d\"], [0.2, \"#de77ae\"], [0.3, \"#f1b6da\"], [0.4, \"#fde0ef\"], [0.5, \"#f7f7f7\"], [0.6, \"#e6f5d0\"], [0.7, \"#b8e186\"], [0.8, \"#7fbc41\"], [0.9, \"#4d9221\"], [1, \"#276419\"]], \"sequential\": [[0.0, \"#0d0887\"], [0.1111111111111111, \"#46039f\"], [0.2222222222222222, \"#7201a8\"], [0.3333333333333333, \"#9c179e\"], [0.4444444444444444, \"#bd3786\"], [0.5555555555555556, \"#d8576b\"], [0.6666666666666666, \"#ed7953\"], [0.7777777777777778, \"#fb9f3a\"], [0.8888888888888888, \"#fdca26\"], [1.0, \"#f0f921\"]], \"sequentialminus\": [[0.0, \"#0d0887\"], [0.1111111111111111, \"#46039f\"], [0.2222222222222222, \"#7201a8\"], [0.3333333333333333, \"#9c179e\"], [0.4444444444444444, \"#bd3786\"], [0.5555555555555556, \"#d8576b\"], [0.6666666666666666, \"#ed7953\"], [0.7777777777777778, \"#fb9f3a\"], [0.8888888888888888, \"#fdca26\"], [1.0, \"#f0f921\"]]}, \"colorway\": [\"#636efa\", \"#EF553B\", \"#00cc96\", \"#ab63fa\", \"#FFA15A\", \"#19d3f3\", \"#FF6692\", \"#B6E880\", \"#FF97FF\", \"#FECB52\"], \"font\": {\"color\": \"#2a3f5f\"}, \"geo\": {\"bgcolor\": \"white\", \"lakecolor\": \"white\", \"landcolor\": \"#E5ECF6\", \"showlakes\": true, \"showland\": true, \"subunitcolor\": \"white\"}, \"hoverlabel\": {\"align\": \"left\"}, \"hovermode\": \"closest\", \"mapbox\": {\"style\": \"light\"}, \"paper_bgcolor\": \"white\", \"plot_bgcolor\": \"#E5ECF6\", \"polar\": {\"angularaxis\": {\"gridcolor\": \"white\", \"linecolor\": \"white\", \"ticks\": \"\"}, \"bgcolor\": \"#E5ECF6\", \"radialaxis\": {\"gridcolor\": \"white\", \"linecolor\": \"white\", \"ticks\": \"\"}}, \"scene\": {\"xaxis\": {\"backgroundcolor\": \"#E5ECF6\", \"gridcolor\": \"white\", \"gridwidth\": 2, \"linecolor\": \"white\", \"showbackground\": true, \"ticks\": \"\", \"zerolinecolor\": \"white\"}, \"yaxis\": {\"backgroundcolor\": \"#E5ECF6\", \"gridcolor\": \"white\", \"gridwidth\": 2, \"linecolor\": \"white\", \"showbackground\": true, \"ticks\": \"\", \"zerolinecolor\": \"white\"}, \"zaxis\": {\"backgroundcolor\": \"#E5ECF6\", \"gridcolor\": \"white\", \"gridwidth\": 2, \"linecolor\": \"white\", \"showbackground\": true, \"ticks\": \"\", \"zerolinecolor\": \"white\"}}, \"shapedefaults\": {\"line\": {\"color\": \"#2a3f5f\"}}, \"ternary\": {\"aaxis\": {\"gridcolor\": \"white\", \"linecolor\": \"white\", \"ticks\": \"\"}, \"baxis\": {\"gridcolor\": \"white\", \"linecolor\": \"white\", \"ticks\": \"\"}, \"bgcolor\": \"#E5ECF6\", \"caxis\": {\"gridcolor\": \"white\", \"linecolor\": \"white\", \"ticks\": \"\"}}, \"title\": {\"x\": 0.05}, \"xaxis\": {\"automargin\": true, \"gridcolor\": \"white\", \"linecolor\": \"white\", \"ticks\": \"\", \"title\": {\"standoff\": 15}, \"zerolinecolor\": \"white\", \"zerolinewidth\": 2}, \"yaxis\": {\"automargin\": true, \"gridcolor\": \"white\", \"linecolor\": \"white\", \"ticks\": \"\", \"title\": {\"standoff\": 15}, \"zerolinecolor\": \"white\", \"zerolinewidth\": 2}}}, \"title\": {\"text\": \"<b>US presidential election</b>\", \"x\": 0.5}, \"width\": 700, \"xaxis\": {\"anchor\": \"y\", \"domain\": [0.0, 0.94], \"title\": {\"text\": \"<b>Day</b>\"}}, \"yaxis\": {\"anchor\": \"x\", \"color\": \"Darkgreen\", \"domain\": [0.0, 1.0], \"title\": {\"text\": \"<b>IBOVESPA</b> \"}}, \"yaxis2\": {\"anchor\": \"x\", \"color\": \"Mediumblue\", \"overlaying\": \"y\", \"side\": \"right\", \"title\": {\"text\": \"<b>S&P 500</b> \"}}},\n",
              "                        {\"responsive\": true}\n",
              "                    ).then(function(){\n",
              "                            \n",
              "var gd = document.getElementById('2b22777f-78c0-490c-8e25-730cfc8235dd');\n",
              "var x = new MutationObserver(function (mutations, observer) {{\n",
              "        var display = window.getComputedStyle(gd).display;\n",
              "        if (!display || display === 'none') {{\n",
              "            console.log([gd, 'removed!']);\n",
              "            Plotly.purge(gd);\n",
              "            observer.disconnect();\n",
              "        }}\n",
              "}});\n",
              "\n",
              "// Listen for the removal of the full notebook cells\n",
              "var notebookContainer = gd.closest('#notebook-container');\n",
              "if (notebookContainer) {{\n",
              "    x.observe(notebookContainer, {childList: true});\n",
              "}}\n",
              "\n",
              "// Listen for the clearing of the current output cell\n",
              "var outputEl = gd.closest('.output');\n",
              "if (outputEl) {{\n",
              "    x.observe(outputEl, {childList: true});\n",
              "}}\n",
              "\n",
              "                        })\n",
              "                };\n",
              "                \n",
              "            </script>\n",
              "        </div>\n",
              "</body>\n",
              "</html>"
            ]
          },
          "metadata": {
            "tags": []
          }
        },
        {
          "output_type": "display_data",
          "data": {
            "image/png": "[encoded data removed]",
            "text/plain": [
              "<Figure size 432x288 with 2 Axes>"
            ]
          },
          "metadata": {
            "tags": [],
            "needs_background": "light"
          }
        }
      ]
    },
    {
      "cell_type": "markdown",
      "metadata": {
        "id": "eZEb7-5ckITG",
        "colab_type": "text"
      },
      "source": [
        "\n",
        "Em 2000, tivemos uma relativamente alta correlação entre a bolsa brasileira e a bolsa americana (0.86), o que significa que nesse período pré e pós eleição as duas bolsas caminharam parecidas em tendência (quando o S&P subiu, a IBOV subiu). Ambas as bolsa vinham performando bem até meados de setembro, onde as duas bolsas recuaram (pior para a IBOV). O S&P esboçou uma reação até o dia da eleição mas até o final do ano continuou sem recuperar os números atingidos no começo de setembro, enquanto a IBOV, embora também não tenha retornado aos valores anteriores, terminou o ano em uma melhor tendência. \n"
      ]
    },
    {
      "cell_type": "code",
      "metadata": {
        "id": "6vNMNsyEkK-s",
        "colab_type": "code",
        "colab": {
          "base_uri": "https://localhost:8080/",
          "height": 799
        },
        "outputId": "5831722d-5d61-4368-9115-44f5d8de9319"
      },
      "source": [
        "# Now, let's study the 2008 ellection\n",
        "year = '2008';\n",
        "plot_data(year)"
      ],
      "execution_count": null,
      "outputs": [
        {
          "output_type": "stream",
          "text": [
            "[*********************100%***********************]  2 of 2 completed\n"
          ],
          "name": "stdout"
        },
        {
          "output_type": "display_data",
          "data": {
            "text/html": [
              "<html>\n",
              "<head><meta charset=\"utf-8\" /></head>\n",
              "<body>\n",
              "    <div>\n",
              "            <script src=\"https://cdnjs.cloudflare.com/ajax/libs/mathjax/2.7.5/MathJax.js?config=TeX-AMS-MML_SVG\"></script><script type=\"text/javascript\">if (window.MathJax) {MathJax.Hub.Config({SVG: {font: \"STIX-Web\"}});}</script>\n",
              "                <script type=\"text/javascript\">window.PlotlyConfig = {MathJaxConfig: 'local'};</script>\n",
              "        <script src=\"https://cdn.plot.ly/plotly-latest.min.js\"></script>    \n",
              "            <div id=\"fe122924-2b9d-42f3-932b-0f532c03ebfc\" class=\"plotly-graph-div\" style=\"height:500px; width:700px;\"></div>\n",
              "            <script type=\"text/javascript\">\n",
              "                \n",
              "                    window.PLOTLYENV=window.PLOTLYENV || {};\n",
              "                    \n",
              "                if (document.getElementById(\"fe122924-2b9d-42f3-932b-0f532c03ebfc\")) {\n",
              "                    Plotly.newPlot(\n",
              "                        'fe122924-2b9d-42f3-932b-0f532c03ebfc',\n",
              "                        [{\"marker\": {\"color\": \"Darkgreen\", \"size\": 5}, \"mode\": \"lines+markers\", \"name\": \"IBOV\", \"type\": \"scatter\", \"x\": [\"2008-08-01T00:00:00\", \"2008-08-04T00:00:00\", \"2008-08-05T00:00:00\", \"2008-08-06T00:00:00\", \"2008-08-07T00:00:00\", \"2008-08-08T00:00:00\", \"2008-08-11T00:00:00\", \"2008-08-12T00:00:00\", \"2008-08-13T00:00:00\", \"2008-08-14T00:00:00\", \"2008-08-15T00:00:00\", \"2008-08-18T00:00:00\", \"2008-08-19T00:00:00\", \"2008-08-20T00:00:00\", \"2008-08-21T00:00:00\", \"2008-08-22T00:00:00\", \"2008-08-25T00:00:00\", \"2008-08-26T00:00:00\", \"2008-08-27T00:00:00\", \"2008-08-28T00:00:00\", \"2008-08-29T00:00:00\", \"2008-09-01T00:00:00\", \"2008-09-02T00:00:00\", \"2008-09-03T00:00:00\", \"2008-09-04T00:00:00\", \"2008-09-05T00:00:00\", \"2008-09-08T00:00:00\", \"2008-09-09T00:00:00\", \"2008-09-10T00:00:00\", \"2008-09-11T00:00:00\", \"2008-09-12T00:00:00\", \"2008-09-15T00:00:00\", \"2008-09-16T00:00:00\", \"2008-09-17T00:00:00\", \"2008-09-18T00:00:00\", \"2008-09-19T00:00:00\", \"2008-09-22T00:00:00\", \"2008-09-23T00:00:00\", \"2008-09-24T00:00:00\", \"2008-09-25T00:00:00\", \"2008-09-26T00:00:00\", \"2008-09-29T00:00:00\", \"2008-09-30T00:00:00\", \"2008-10-01T00:00:00\", \"2008-10-02T00:00:00\", \"2008-10-03T00:00:00\", \"2008-10-06T00:00:00\", \"2008-10-07T00:00:00\", \"2008-10-08T00:00:00\", \"2008-10-09T00:00:00\", \"2008-10-10T00:00:00\", \"2008-10-13T00:00:00\", \"2008-10-14T00:00:00\", \"2008-10-15T00:00:00\", \"2008-10-16T00:00:00\", \"2008-10-17T00:00:00\", \"2008-10-20T00:00:00\", \"2008-10-21T00:00:00\", \"2008-10-22T00:00:00\", \"2008-10-23T00:00:00\", \"2008-10-24T00:00:00\", \"2008-10-27T00:00:00\", \"2008-10-28T00:00:00\", \"2008-10-29T00:00:00\", \"2008-10-30T00:00:00\", \"2008-10-31T00:00:00\", \"2008-11-03T00:00:00\", \"2008-11-04T00:00:00\", \"2008-11-05T00:00:00\", \"2008-11-06T00:00:00\", \"2008-11-07T00:00:00\", \"2008-11-10T00:00:00\", \"2008-11-11T00:00:00\", \"2008-11-12T00:00:00\", \"2008-11-13T00:00:00\", \"2008-11-14T00:00:00\", \"2008-11-17T00:00:00\", \"2008-11-18T00:00:00\", \"2008-11-19T00:00:00\", \"2008-11-20T00:00:00\", \"2008-11-21T00:00:00\", \"2008-11-24T00:00:00\", \"2008-11-25T00:00:00\", \"2008-11-26T00:00:00\", \"2008-11-27T00:00:00\", \"2008-11-28T00:00:00\", \"2008-12-01T00:00:00\", \"2008-12-02T00:00:00\", \"2008-12-03T00:00:00\", \"2008-12-04T00:00:00\", \"2008-12-05T00:00:00\", \"2008-12-08T00:00:00\", \"2008-12-09T00:00:00\", \"2008-12-10T00:00:00\", \"2008-12-11T00:00:00\", \"2008-12-12T00:00:00\", \"2008-12-15T00:00:00\", \"2008-12-16T00:00:00\", \"2008-12-17T00:00:00\", \"2008-12-18T00:00:00\", \"2008-12-19T00:00:00\", \"2008-12-22T00:00:00\", \"2008-12-23T00:00:00\", \"2008-12-24T00:00:00\", \"2008-12-26T00:00:00\", \"2008-12-29T00:00:00\", \"2008-12-30T00:00:00\"], \"xaxis\": \"x\", \"y\": [57630.0, 55609.0, 56471.0, 57542.0, 57018.0, 56584.0, 54720.0, 54503.0, 54573.0, 55138.0, 54244.0, 53327.0, 53639.0, 55377.0, 55935.0, 55850.0, 54477.0, 54359.0, 55519.0, 56382.0, 55680.0, 55162.0, 54404.0, 53527.0, 51409.0, 51940.0, 50718.0, 48435.0, 49633.0, 51270.0, 52393.0, 48416.0, 49229.0, 45909.0, 48423.0, 53055.0, 51541.0, 49593.0, 49843.0, 51828.0, 50783.0, 46028.0, 49541.0, 49799.0, 46145.0, 44517.0, 42101.0, 40140.0, 38594.0, 37080.0, 35610.0, 40829.0, 41569.0, 36833.0, 36442.0, 36399.0, 39441.0, 39043.0, 35070.0, 33818.0, 31482.0, 29435.0, 33387.0, 34845.0, 37449.0, 37257.0, 38249.0, 40255.0, 37786.0, 36362.0, 36665.0, 36776.0, 37262.0, 34374.0, 35993.0, 35789.0, 35717.0, 34095.0, 33405.0, 32195.221771234614, 31251.0, 34189.0, 34813.0, 36470.0, 36213.0, 36596.0, 34741.0, 35001.0, 35297.0, 35128.0, 35347.0, 38285.0, 37968.0, 39004.0, 38519.0, 39374.0, 38320.0, 39993.0, 39947.0, 39536.0, 39131.0, 37619.0, 36471.0, 36094.55318564024, 36864.0, 37060.0, 37550.0], \"yaxis\": \"y\"}, {\"marker\": {\"color\": \"Mediumblue\", \"size\": 5}, \"mode\": \"lines+markers\", \"name\": \"S&P500\", \"type\": \"scatter\", \"x\": [\"2008-08-01T00:00:00\", \"2008-08-04T00:00:00\", \"2008-08-05T00:00:00\", \"2008-08-06T00:00:00\", \"2008-08-07T00:00:00\", \"2008-08-08T00:00:00\", \"2008-08-11T00:00:00\", \"2008-08-12T00:00:00\", \"2008-08-13T00:00:00\", \"2008-08-14T00:00:00\", \"2008-08-15T00:00:00\", \"2008-08-18T00:00:00\", \"2008-08-19T00:00:00\", \"2008-08-20T00:00:00\", \"2008-08-21T00:00:00\", \"2008-08-22T00:00:00\", \"2008-08-25T00:00:00\", \"2008-08-26T00:00:00\", \"2008-08-27T00:00:00\", \"2008-08-28T00:00:00\", \"2008-08-29T00:00:00\", \"2008-09-01T00:00:00\", \"2008-09-02T00:00:00\", \"2008-09-03T00:00:00\", \"2008-09-04T00:00:00\", \"2008-09-05T00:00:00\", \"2008-09-08T00:00:00\", \"2008-09-09T00:00:00\", \"2008-09-10T00:00:00\", \"2008-09-11T00:00:00\", \"2008-09-12T00:00:00\", \"2008-09-15T00:00:00\", \"2008-09-16T00:00:00\", \"2008-09-17T00:00:00\", \"2008-09-18T00:00:00\", \"2008-09-19T00:00:00\", \"2008-09-22T00:00:00\", \"2008-09-23T00:00:00\", \"2008-09-24T00:00:00\", \"2008-09-25T00:00:00\", \"2008-09-26T00:00:00\", \"2008-09-29T00:00:00\", \"2008-09-30T00:00:00\", \"2008-10-01T00:00:00\", \"2008-10-02T00:00:00\", \"2008-10-03T00:00:00\", \"2008-10-06T00:00:00\", \"2008-10-07T00:00:00\", \"2008-10-08T00:00:00\", \"2008-10-09T00:00:00\", \"2008-10-10T00:00:00\", \"2008-10-13T00:00:00\", \"2008-10-14T00:00:00\", \"2008-10-15T00:00:00\", \"2008-10-16T00:00:00\", \"2008-10-17T00:00:00\", \"2008-10-20T00:00:00\", \"2008-10-21T00:00:00\", \"2008-10-22T00:00:00\", \"2008-10-23T00:00:00\", \"2008-10-24T00:00:00\", \"2008-10-27T00:00:00\", \"2008-10-28T00:00:00\", \"2008-10-29T00:00:00\", \"2008-10-30T00:00:00\", \"2008-10-31T00:00:00\", \"2008-11-03T00:00:00\", \"2008-11-04T00:00:00\", \"2008-11-05T00:00:00\", \"2008-11-06T00:00:00\", \"2008-11-07T00:00:00\", \"2008-11-10T00:00:00\", \"2008-11-11T00:00:00\", \"2008-11-12T00:00:00\", \"2008-11-13T00:00:00\", \"2008-11-14T00:00:00\", \"2008-11-17T00:00:00\", \"2008-11-18T00:00:00\", \"2008-11-19T00:00:00\", \"2008-11-20T00:00:00\", \"2008-11-21T00:00:00\", \"2008-11-24T00:00:00\", \"2008-11-25T00:00:00\", \"2008-11-26T00:00:00\", \"2008-11-27T00:00:00\", \"2008-11-28T00:00:00\", \"2008-12-01T00:00:00\", \"2008-12-02T00:00:00\", \"2008-12-03T00:00:00\", \"2008-12-04T00:00:00\", \"2008-12-05T00:00:00\", \"2008-12-08T00:00:00\", \"2008-12-09T00:00:00\", \"2008-12-10T00:00:00\", \"2008-12-11T00:00:00\", \"2008-12-12T00:00:00\", \"2008-12-15T00:00:00\", \"2008-12-16T00:00:00\", \"2008-12-17T00:00:00\", \"2008-12-18T00:00:00\", \"2008-12-19T00:00:00\", \"2008-12-22T00:00:00\", \"2008-12-23T00:00:00\", \"2008-12-24T00:00:00\", \"2008-12-26T00:00:00\", \"2008-12-29T00:00:00\", \"2008-12-30T00:00:00\"], \"xaxis\": \"x\", \"y\": [1260.31005859375, 1249.010009765625, 1284.8800048828125, 1289.18994140625, 1266.0699462890625, 1296.3199462890625, 1305.3199462890625, 1289.5899658203125, 1285.8299560546875, 1292.9300537109375, 1298.199951171875, 1278.5999755859375, 1266.68994140625, 1274.5400390625, 1277.719970703125, 1292.199951171875, 1266.8399658203125, 1271.510009765625, 1281.6600341796875, 1300.6800537109375, 1282.8299560546875, 1272.7626483098315, 1277.5799560546875, 1274.97998046875, 1236.8299560546875, 1242.31005859375, 1267.7900390625, 1224.510009765625, 1232.0400390625, 1249.050048828125, 1251.699951171875, 1192.699951171875, 1213.5999755859375, 1156.3900146484375, 1206.510009765625, 1255.0799560546875, 1207.0899658203125, 1188.219970703125, 1185.8699951171875, 1209.1800537109375, 1213.27001953125, 1106.4200439453125, 1166.3599853515625, 1161.06005859375, 1114.280029296875, 1099.22998046875, 1056.8900146484375, 996.22998046875, 984.9400024414062, 909.9199829101562, 899.219970703125, 1003.3499755859375, 998.010009765625, 907.8400268554688, 946.4299926757812, 940.5499877929688, 985.4000244140625, 955.0499877929688, 896.780029296875, 908.1099853515625, 876.77001953125, 848.9199829101562, 940.510009765625, 930.0900268554688, 954.0900268554688, 968.75, 966.2999877929688, 1005.75, 952.77001953125, 904.8800048828125, 930.989990234375, 919.2100219726562, 898.9500122070312, 852.2999877929688, 911.2899780273438, 873.2899780273438, 850.75, 859.1199951171875, 806.5800170898438, 752.4400024414062, 800.030029296875, 851.8099975585938, 857.3900146484375, 887.6799926757812, 903.1942579125742, 896.239990234375, 816.2100219726562, 848.8099975585938, 870.739990234375, 845.219970703125, 876.0700073242188, 909.7000122070312, 888.6699829101562, 899.239990234375, 873.5900268554688, 879.72998046875, 868.5700073242188, 913.1799926757812, 904.4199829101562, 885.280029296875, 887.8800048828125, 871.6300048828125, 863.1599731445312, 868.1500244140625, 872.7999877929688, 869.4199829101562, 890.6400146484375], \"yaxis\": \"y2\"}, {\"mode\": \"text\", \"showlegend\": false, \"text\": [\"<b>Election day</b>\"], \"type\": \"scatter\", \"x\": [\"2008-11-19\"], \"y\": [57630.0]}],\n",
              "                        {\"height\": 500, \"shapes\": [{\"line\": {\"color\": \"Red\", \"dash\": \"dot\", \"width\": 3}, \"type\": \"line\", \"x0\": \"2008-11-4\", \"x1\": \"2008-11-4\", \"xref\": \"x\", \"y0\": 0, \"y1\": 1, \"yref\": \"paper\"}], \"showlegend\": false, \"template\": {\"data\": {\"bar\": [{\"error_x\": {\"color\": \"#2a3f5f\"}, \"error_y\": {\"color\": \"#2a3f5f\"}, \"marker\": {\"line\": {\"color\": \"#E5ECF6\", \"width\": 0.5}}, \"type\": \"bar\"}], \"barpolar\": [{\"marker\": {\"line\": {\"color\": \"#E5ECF6\", \"width\": 0.5}}, \"type\": \"barpolar\"}], \"carpet\": [{\"aaxis\": {\"endlinecolor\": \"#2a3f5f\", \"gridcolor\": \"white\", \"linecolor\": \"white\", \"minorgridcolor\": \"white\", \"startlinecolor\": \"#2a3f5f\"}, \"baxis\": {\"endlinecolor\": \"#2a3f5f\", \"gridcolor\": \"white\", \"linecolor\": \"white\", \"minorgridcolor\": \"white\", \"startlinecolor\": \"#2a3f5f\"}, \"type\": \"carpet\"}], \"choropleth\": [{\"colorbar\": {\"outlinewidth\": 0, \"ticks\": \"\"}, \"type\": \"choropleth\"}], \"contour\": [{\"colorbar\": {\"outlinewidth\": 0, \"ticks\": \"\"}, \"colorscale\": [[0.0, \"#0d0887\"], [0.1111111111111111, \"#46039f\"], [0.2222222222222222, \"#7201a8\"], [0.3333333333333333, \"#9c179e\"], [0.4444444444444444, \"#bd3786\"], [0.5555555555555556, \"#d8576b\"], [0.6666666666666666, \"#ed7953\"], [0.7777777777777778, \"#fb9f3a\"], [0.8888888888888888, \"#fdca26\"], [1.0, \"#f0f921\"]], \"type\": \"contour\"}], \"contourcarpet\": [{\"colorbar\": {\"outlinewidth\": 0, \"ticks\": \"\"}, \"type\": \"contourcarpet\"}], \"heatmap\": [{\"colorbar\": {\"outlinewidth\": 0, \"ticks\": \"\"}, \"colorscale\": [[0.0, \"#0d0887\"], [0.1111111111111111, \"#46039f\"], [0.2222222222222222, \"#7201a8\"], [0.3333333333333333, \"#9c179e\"], [0.4444444444444444, \"#bd3786\"], [0.5555555555555556, \"#d8576b\"], [0.6666666666666666, \"#ed7953\"], [0.7777777777777778, \"#fb9f3a\"], [0.8888888888888888, \"#fdca26\"], [1.0, \"#f0f921\"]], \"type\": \"heatmap\"}], \"heatmapgl\": [{\"colorbar\": {\"outlinewidth\": 0, \"ticks\": \"\"}, \"colorscale\": [[0.0, \"#0d0887\"], [0.1111111111111111, \"#46039f\"], [0.2222222222222222, \"#7201a8\"], [0.3333333333333333, \"#9c179e\"], [0.4444444444444444, \"#bd3786\"], [0.5555555555555556, \"#d8576b\"], [0.6666666666666666, \"#ed7953\"], [0.7777777777777778, \"#fb9f3a\"], [0.8888888888888888, \"#fdca26\"], [1.0, \"#f0f921\"]], \"type\": \"heatmapgl\"}], \"histogram\": [{\"marker\": {\"colorbar\": {\"outlinewidth\": 0, \"ticks\": \"\"}}, \"type\": \"histogram\"}], \"histogram2d\": [{\"colorbar\": {\"outlinewidth\": 0, \"ticks\": \"\"}, \"colorscale\": [[0.0, \"#0d0887\"], [0.1111111111111111, \"#46039f\"], [0.2222222222222222, \"#7201a8\"], [0.3333333333333333, \"#9c179e\"], [0.4444444444444444, \"#bd3786\"], [0.5555555555555556, \"#d8576b\"], [0.6666666666666666, \"#ed7953\"], [0.7777777777777778, \"#fb9f3a\"], [0.8888888888888888, \"#fdca26\"], [1.0, \"#f0f921\"]], \"type\": \"histogram2d\"}], \"histogram2dcontour\": [{\"colorbar\": {\"outlinewidth\": 0, \"ticks\": \"\"}, \"colorscale\": [[0.0, \"#0d0887\"], [0.1111111111111111, \"#46039f\"], [0.2222222222222222, \"#7201a8\"], [0.3333333333333333, \"#9c179e\"], [0.4444444444444444, \"#bd3786\"], [0.5555555555555556, \"#d8576b\"], [0.6666666666666666, \"#ed7953\"], [0.7777777777777778, \"#fb9f3a\"], [0.8888888888888888, \"#fdca26\"], [1.0, \"#f0f921\"]], \"type\": \"histogram2dcontour\"}], \"mesh3d\": [{\"colorbar\": {\"outlinewidth\": 0, \"ticks\": \"\"}, \"type\": \"mesh3d\"}], \"parcoords\": [{\"line\": {\"colorbar\": {\"outlinewidth\": 0, \"ticks\": \"\"}}, \"type\": \"parcoords\"}], \"pie\": [{\"automargin\": true, \"type\": \"pie\"}], \"scatter\": [{\"marker\": {\"colorbar\": {\"outlinewidth\": 0, \"ticks\": \"\"}}, \"type\": \"scatter\"}], \"scatter3d\": [{\"line\": {\"colorbar\": {\"outlinewidth\": 0, \"ticks\": \"\"}}, \"marker\": {\"colorbar\": {\"outlinewidth\": 0, \"ticks\": \"\"}}, \"type\": \"scatter3d\"}], \"scattercarpet\": [{\"marker\": {\"colorbar\": {\"outlinewidth\": 0, \"ticks\": \"\"}}, \"type\": \"scattercarpet\"}], \"scattergeo\": [{\"marker\": {\"colorbar\": {\"outlinewidth\": 0, \"ticks\": \"\"}}, \"type\": \"scattergeo\"}], \"scattergl\": [{\"marker\": {\"colorbar\": {\"outlinewidth\": 0, \"ticks\": \"\"}}, \"type\": \"scattergl\"}], \"scattermapbox\": [{\"marker\": {\"colorbar\": {\"outlinewidth\": 0, \"ticks\": \"\"}}, \"type\": \"scattermapbox\"}], \"scatterpolar\": [{\"marker\": {\"colorbar\": {\"outlinewidth\": 0, \"ticks\": \"\"}}, \"type\": \"scatterpolar\"}], \"scatterpolargl\": [{\"marker\": {\"colorbar\": {\"outlinewidth\": 0, \"ticks\": \"\"}}, \"type\": \"scatterpolargl\"}], \"scatterternary\": [{\"marker\": {\"colorbar\": {\"outlinewidth\": 0, \"ticks\": \"\"}}, \"type\": \"scatterternary\"}], \"surface\": [{\"colorbar\": {\"outlinewidth\": 0, \"ticks\": \"\"}, \"colorscale\": [[0.0, \"#0d0887\"], [0.1111111111111111, \"#46039f\"], [0.2222222222222222, \"#7201a8\"], [0.3333333333333333, \"#9c179e\"], [0.4444444444444444, \"#bd3786\"], [0.5555555555555556, \"#d8576b\"], [0.6666666666666666, \"#ed7953\"], [0.7777777777777778, \"#fb9f3a\"], [0.8888888888888888, \"#fdca26\"], [1.0, \"#f0f921\"]], \"type\": \"surface\"}], \"table\": [{\"cells\": {\"fill\": {\"color\": \"#EBF0F8\"}, \"line\": {\"color\": \"white\"}}, \"header\": {\"fill\": {\"color\": \"#C8D4E3\"}, \"line\": {\"color\": \"white\"}}, \"type\": \"table\"}]}, \"layout\": {\"annotationdefaults\": {\"arrowcolor\": \"#2a3f5f\", \"arrowhead\": 0, \"arrowwidth\": 1}, \"coloraxis\": {\"colorbar\": {\"outlinewidth\": 0, \"ticks\": \"\"}}, \"colorscale\": {\"diverging\": [[0, \"#8e0152\"], [0.1, \"#c51b7d\"], [0.2, \"#de77ae\"], [0.3, \"#f1b6da\"], [0.4, \"#fde0ef\"], [0.5, \"#f7f7f7\"], [0.6, \"#e6f5d0\"], [0.7, \"#b8e186\"], [0.8, \"#7fbc41\"], [0.9, \"#4d9221\"], [1, \"#276419\"]], \"sequential\": [[0.0, \"#0d0887\"], [0.1111111111111111, \"#46039f\"], [0.2222222222222222, \"#7201a8\"], [0.3333333333333333, \"#9c179e\"], [0.4444444444444444, \"#bd3786\"], [0.5555555555555556, \"#d8576b\"], [0.6666666666666666, \"#ed7953\"], [0.7777777777777778, \"#fb9f3a\"], [0.8888888888888888, \"#fdca26\"], [1.0, \"#f0f921\"]], \"sequentialminus\": [[0.0, \"#0d0887\"], [0.1111111111111111, \"#46039f\"], [0.2222222222222222, \"#7201a8\"], [0.3333333333333333, \"#9c179e\"], [0.4444444444444444, \"#bd3786\"], [0.5555555555555556, \"#d8576b\"], [0.6666666666666666, \"#ed7953\"], [0.7777777777777778, \"#fb9f3a\"], [0.8888888888888888, \"#fdca26\"], [1.0, \"#f0f921\"]]}, \"colorway\": [\"#636efa\", \"#EF553B\", \"#00cc96\", \"#ab63fa\", \"#FFA15A\", \"#19d3f3\", \"#FF6692\", \"#B6E880\", \"#FF97FF\", \"#FECB52\"], \"font\": {\"color\": \"#2a3f5f\"}, \"geo\": {\"bgcolor\": \"white\", \"lakecolor\": \"white\", \"landcolor\": \"#E5ECF6\", \"showlakes\": true, \"showland\": true, \"subunitcolor\": \"white\"}, \"hoverlabel\": {\"align\": \"left\"}, \"hovermode\": \"closest\", \"mapbox\": {\"style\": \"light\"}, \"paper_bgcolor\": \"white\", \"plot_bgcolor\": \"#E5ECF6\", \"polar\": {\"angularaxis\": {\"gridcolor\": \"white\", \"linecolor\": \"white\", \"ticks\": \"\"}, \"bgcolor\": \"#E5ECF6\", \"radialaxis\": {\"gridcolor\": \"white\", \"linecolor\": \"white\", \"ticks\": \"\"}}, \"scene\": {\"xaxis\": {\"backgroundcolor\": \"#E5ECF6\", \"gridcolor\": \"white\", \"gridwidth\": 2, \"linecolor\": \"white\", \"showbackground\": true, \"ticks\": \"\", \"zerolinecolor\": \"white\"}, \"yaxis\": {\"backgroundcolor\": \"#E5ECF6\", \"gridcolor\": \"white\", \"gridwidth\": 2, \"linecolor\": \"white\", \"showbackground\": true, \"ticks\": \"\", \"zerolinecolor\": \"white\"}, \"zaxis\": {\"backgroundcolor\": \"#E5ECF6\", \"gridcolor\": \"white\", \"gridwidth\": 2, \"linecolor\": \"white\", \"showbackground\": true, \"ticks\": \"\", \"zerolinecolor\": \"white\"}}, \"shapedefaults\": {\"line\": {\"color\": \"#2a3f5f\"}}, \"ternary\": {\"aaxis\": {\"gridcolor\": \"white\", \"linecolor\": \"white\", \"ticks\": \"\"}, \"baxis\": {\"gridcolor\": \"white\", \"linecolor\": \"white\", \"ticks\": \"\"}, \"bgcolor\": \"#E5ECF6\", \"caxis\": {\"gridcolor\": \"white\", \"linecolor\": \"white\", \"ticks\": \"\"}}, \"title\": {\"x\": 0.05}, \"xaxis\": {\"automargin\": true, \"gridcolor\": \"white\", \"linecolor\": \"white\", \"ticks\": \"\", \"title\": {\"standoff\": 15}, \"zerolinecolor\": \"white\", \"zerolinewidth\": 2}, \"yaxis\": {\"automargin\": true, \"gridcolor\": \"white\", \"linecolor\": \"white\", \"ticks\": \"\", \"title\": {\"standoff\": 15}, \"zerolinecolor\": \"white\", \"zerolinewidth\": 2}}}, \"title\": {\"text\": \"<b>US presidential election</b>\", \"x\": 0.5}, \"width\": 700, \"xaxis\": {\"anchor\": \"y\", \"domain\": [0.0, 0.94], \"title\": {\"text\": \"<b>Day</b>\"}}, \"yaxis\": {\"anchor\": \"x\", \"color\": \"Darkgreen\", \"domain\": [0.0, 1.0], \"title\": {\"text\": \"<b>IBOVESPA</b> \"}}, \"yaxis2\": {\"anchor\": \"x\", \"color\": \"Mediumblue\", \"overlaying\": \"y\", \"side\": \"right\", \"title\": {\"text\": \"<b>S&P 500</b> \"}}},\n",
              "                        {\"responsive\": true}\n",
              "                    ).then(function(){\n",
              "                            \n",
              "var gd = document.getElementById('fe122924-2b9d-42f3-932b-0f532c03ebfc');\n",
              "var x = new MutationObserver(function (mutations, observer) {{\n",
              "        var display = window.getComputedStyle(gd).display;\n",
              "        if (!display || display === 'none') {{\n",
              "            console.log([gd, 'removed!']);\n",
              "            Plotly.purge(gd);\n",
              "            observer.disconnect();\n",
              "        }}\n",
              "}});\n",
              "\n",
              "// Listen for the removal of the full notebook cells\n",
              "var notebookContainer = gd.closest('#notebook-container');\n",
              "if (notebookContainer) {{\n",
              "    x.observe(notebookContainer, {childList: true});\n",
              "}}\n",
              "\n",
              "// Listen for the clearing of the current output cell\n",
              "var outputEl = gd.closest('.output');\n",
              "if (outputEl) {{\n",
              "    x.observe(outputEl, {childList: true});\n",
              "}}\n",
              "\n",
              "                        })\n",
              "                };\n",
              "                \n",
              "            </script>\n",
              "        </div>\n",
              "</body>\n",
              "</html>"
            ]
          },
          "metadata": {
            "tags": []
          }
        },
        {
          "output_type": "display_data",
          "data": {
            "image/png": "[encoded data removed]",
            "text/plain": [
              "<Figure size 432x288 with 2 Axes>"
            ]
          },
          "metadata": {
            "tags": [],
            "needs_background": "light"
          }
        }
      ]
    },
    {
      "cell_type": "markdown",
      "metadata": {
        "id": "u7CRfBs4kYFb",
        "colab_type": "text"
      },
      "source": [
        "Em 2008, a correlação entre o S&P e a IBOV foi praticamente 1, ou seja, as duas bolsas subiram e caíram praticamente nos mesmos dias. Novamente, uma tendência similar ao ano de 2000 aconteceu. Contudo, em 2008, as bolsas começaram a cair no começo de outubro, em torno de 15 dias mais tarde do que em 2000. Até o dia das eleições as bolsas deram uma respirada mas novamente terminaram o ano abaixo dos valores de outubro.\n",
        "\n"
      ]
    },
    {
      "cell_type": "code",
      "metadata": {
        "id": "F_vP7D1Lkm_Q",
        "colab_type": "code",
        "colab": {
          "base_uri": "https://localhost:8080/",
          "height": 799
        },
        "outputId": "b2bb02fb-3566-4229-9ab8-a6534c775d99"
      },
      "source": [
        "# Finally, let's look at the 2016 ellection:\n",
        "year = '2016';\n",
        "plot_data(year)"
      ],
      "execution_count": null,
      "outputs": [
        {
          "output_type": "stream",
          "text": [
            "[*********************100%***********************]  2 of 2 completed\n"
          ],
          "name": "stdout"
        },
        {
          "output_type": "display_data",
          "data": {
            "text/html": [
              "<html>\n",
              "<head><meta charset=\"utf-8\" /></head>\n",
              "<body>\n",
              "    <div>\n",
              "            <script src=\"https://cdnjs.cloudflare.com/ajax/libs/mathjax/2.7.5/MathJax.js?config=TeX-AMS-MML_SVG\"></script><script type=\"text/javascript\">if (window.MathJax) {MathJax.Hub.Config({SVG: {font: \"STIX-Web\"}});}</script>\n",
              "                <script type=\"text/javascript\">window.PlotlyConfig = {MathJaxConfig: 'local'};</script>\n",
              "        <script src=\"https://cdn.plot.ly/plotly-latest.min.js\"></script>    \n",
              "            <div id=\"c31e9e02-7d5f-41e4-a9cd-93a2d4c423eb\" class=\"plotly-graph-div\" style=\"height:500px; width:700px;\"></div>\n",
              "            <script type=\"text/javascript\">\n",
              "                \n",
              "                    window.PLOTLYENV=window.PLOTLYENV || {};\n",
              "                    \n",
              "                if (document.getElementById(\"c31e9e02-7d5f-41e4-a9cd-93a2d4c423eb\")) {\n",
              "                    Plotly.newPlot(\n",
              "                        'c31e9e02-7d5f-41e4-a9cd-93a2d4c423eb',\n",
              "                        [{\"marker\": {\"color\": \"Darkgreen\", \"size\": 5}, \"mode\": \"lines+markers\", \"name\": \"IBOV\", \"type\": \"scatter\", \"x\": [\"2016-08-01T00:00:00\", \"2016-08-02T00:00:00\", \"2016-08-03T00:00:00\", \"2016-08-04T00:00:00\", \"2016-08-05T00:00:00\", \"2016-08-08T00:00:00\", \"2016-08-09T00:00:00\", \"2016-08-10T00:00:00\", \"2016-08-11T00:00:00\", \"2016-08-12T00:00:00\", \"2016-08-15T00:00:00\", \"2016-08-16T00:00:00\", \"2016-08-17T00:00:00\", \"2016-08-18T00:00:00\", \"2016-08-19T00:00:00\", \"2016-08-22T00:00:00\", \"2016-08-23T00:00:00\", \"2016-08-24T00:00:00\", \"2016-08-25T00:00:00\", \"2016-08-26T00:00:00\", \"2016-08-29T00:00:00\", \"2016-08-30T00:00:00\", \"2016-08-31T00:00:00\", \"2016-09-01T00:00:00\", \"2016-09-02T00:00:00\", \"2016-09-05T00:00:00\", \"2016-09-06T00:00:00\", \"2016-09-07T00:00:00\", \"2016-09-08T00:00:00\", \"2016-09-09T00:00:00\", \"2016-09-12T00:00:00\", \"2016-09-13T00:00:00\", \"2016-09-14T00:00:00\", \"2016-09-15T00:00:00\", \"2016-09-16T00:00:00\", \"2016-09-19T00:00:00\", \"2016-09-20T00:00:00\", \"2016-09-21T00:00:00\", \"2016-09-22T00:00:00\", \"2016-09-23T00:00:00\", \"2016-09-26T00:00:00\", \"2016-09-27T00:00:00\", \"2016-09-28T00:00:00\", \"2016-09-29T00:00:00\", \"2016-09-30T00:00:00\", \"2016-10-03T00:00:00\", \"2016-10-04T00:00:00\", \"2016-10-05T00:00:00\", \"2016-10-06T00:00:00\", \"2016-10-07T00:00:00\", \"2016-10-10T00:00:00\", \"2016-10-11T00:00:00\", \"2016-10-12T00:00:00\", \"2016-10-13T00:00:00\", \"2016-10-14T00:00:00\", \"2016-10-17T00:00:00\", \"2016-10-18T00:00:00\", \"2016-10-19T00:00:00\", \"2016-10-20T00:00:00\", \"2016-10-21T00:00:00\", \"2016-10-24T00:00:00\", \"2016-10-25T00:00:00\", \"2016-10-26T00:00:00\", \"2016-10-27T00:00:00\", \"2016-10-28T00:00:00\", \"2016-10-31T00:00:00\", \"2016-11-01T00:00:00\", \"2016-11-02T00:00:00\", \"2016-11-03T00:00:00\", \"2016-11-04T00:00:00\", \"2016-11-07T00:00:00\", \"2016-11-08T00:00:00\", \"2016-11-09T00:00:00\", \"2016-11-10T00:00:00\", \"2016-11-11T00:00:00\", \"2016-11-14T00:00:00\", \"2016-11-15T00:00:00\", \"2016-11-16T00:00:00\", \"2016-11-17T00:00:00\", \"2016-11-18T00:00:00\", \"2016-11-21T00:00:00\", \"2016-11-22T00:00:00\", \"2016-11-23T00:00:00\", \"2016-11-24T00:00:00\", \"2016-11-25T00:00:00\", \"2016-11-28T00:00:00\", \"2016-11-29T00:00:00\", \"2016-11-30T00:00:00\", \"2016-12-01T00:00:00\", \"2016-12-02T00:00:00\", \"2016-12-05T00:00:00\", \"2016-12-06T00:00:00\", \"2016-12-07T00:00:00\", \"2016-12-08T00:00:00\", \"2016-12-09T00:00:00\", \"2016-12-12T00:00:00\", \"2016-12-13T00:00:00\", \"2016-12-14T00:00:00\", \"2016-12-15T00:00:00\", \"2016-12-16T00:00:00\", \"2016-12-19T00:00:00\", \"2016-12-20T00:00:00\", \"2016-12-21T00:00:00\", \"2016-12-22T00:00:00\", \"2016-12-23T00:00:00\", \"2016-12-26T00:00:00\", \"2016-12-27T00:00:00\", \"2016-12-28T00:00:00\", \"2016-12-29T00:00:00\", \"2016-12-30T00:00:00\"], \"xaxis\": \"x\", \"y\": [56756.0, 56162.0, 57077.0, 57594.0, 57661.0, 57635.0, 57689.0, 56920.0, 58300.0, 58298.0, 59146.0, 58855.0, 59324.0, 59166.0, 59099.0, 57781.0, 58020.0, 57718.0, 57722.0, 57716.0, 58610.0, 58575.0, 57901.0, 58236.0, 59616.0, 59566.0, 60129.0, 60757.670849061244, 60232.0, 58000.0, 58586.0, 56821.0, 57059.0, 57909.0, 57080.0, 57350.0, 57736.0, 58394.0, 58994.0, 58697.0, 58054.0, 58382.0, 59356.0, 58351.0, 58367.0, 59461.0, 59339.0, 60254.0, 60644.0, 61109.0, 61668.0, 61022.0, 60811.255523646236, 61119.0, 61767.0, 62696.0, 63782.0, 63506.0, 63838.0, 64108.0, 64060.0, 63866.0, 63826.0, 64250.0, 64308.0, 64925.0, 63326.0, 62260.59650799444, 61750.0, 61598.0, 64052.0, 64158.0, 63258.0, 61201.0, 59184.0, 59657.0, 60574.48660075081, 60759.0, 59770.0, 59962.0, 61070.0, 61954.0, 61986.0, 61396.0, 61559.0, 62855.0, 60987.0, 61906.0, 59507.0, 60316.0, 59832.0, 61088.0, 61414.0, 60677.0, 60501.0, 59179.0, 59281.0, 58212.0, 58396.0, 58389.0, 57111.0, 57583.0, 57647.0, 57255.0, 57937.0, 58620.0, 58697.0, 59782.0, 60227.0, null], \"yaxis\": \"y\"}, {\"marker\": {\"color\": \"Mediumblue\", \"size\": 5}, \"mode\": \"lines+markers\", \"name\": \"S&P500\", \"type\": \"scatter\", \"x\": [\"2016-08-01T00:00:00\", \"2016-08-02T00:00:00\", \"2016-08-03T00:00:00\", \"2016-08-04T00:00:00\", \"2016-08-05T00:00:00\", \"2016-08-08T00:00:00\", \"2016-08-09T00:00:00\", \"2016-08-10T00:00:00\", \"2016-08-11T00:00:00\", \"2016-08-12T00:00:00\", \"2016-08-15T00:00:00\", \"2016-08-16T00:00:00\", \"2016-08-17T00:00:00\", \"2016-08-18T00:00:00\", \"2016-08-19T00:00:00\", \"2016-08-22T00:00:00\", \"2016-08-23T00:00:00\", \"2016-08-24T00:00:00\", \"2016-08-25T00:00:00\", \"2016-08-26T00:00:00\", \"2016-08-29T00:00:00\", \"2016-08-30T00:00:00\", \"2016-08-31T00:00:00\", \"2016-09-01T00:00:00\", \"2016-09-02T00:00:00\", \"2016-09-05T00:00:00\", \"2016-09-06T00:00:00\", \"2016-09-07T00:00:00\", \"2016-09-08T00:00:00\", \"2016-09-09T00:00:00\", \"2016-09-12T00:00:00\", \"2016-09-13T00:00:00\", \"2016-09-14T00:00:00\", \"2016-09-15T00:00:00\", \"2016-09-16T00:00:00\", \"2016-09-19T00:00:00\", \"2016-09-20T00:00:00\", \"2016-09-21T00:00:00\", \"2016-09-22T00:00:00\", \"2016-09-23T00:00:00\", \"2016-09-26T00:00:00\", \"2016-09-27T00:00:00\", \"2016-09-28T00:00:00\", \"2016-09-29T00:00:00\", \"2016-09-30T00:00:00\", \"2016-10-03T00:00:00\", \"2016-10-04T00:00:00\", \"2016-10-05T00:00:00\", \"2016-10-06T00:00:00\", \"2016-10-07T00:00:00\", \"2016-10-10T00:00:00\", \"2016-10-11T00:00:00\", \"2016-10-12T00:00:00\", \"2016-10-13T00:00:00\", \"2016-10-14T00:00:00\", \"2016-10-17T00:00:00\", \"2016-10-18T00:00:00\", \"2016-10-19T00:00:00\", \"2016-10-20T00:00:00\", \"2016-10-21T00:00:00\", \"2016-10-24T00:00:00\", \"2016-10-25T00:00:00\", \"2016-10-26T00:00:00\", \"2016-10-27T00:00:00\", \"2016-10-28T00:00:00\", \"2016-10-31T00:00:00\", \"2016-11-01T00:00:00\", \"2016-11-02T00:00:00\", \"2016-11-03T00:00:00\", \"2016-11-04T00:00:00\", \"2016-11-07T00:00:00\", \"2016-11-08T00:00:00\", \"2016-11-09T00:00:00\", \"2016-11-10T00:00:00\", \"2016-11-11T00:00:00\", \"2016-11-14T00:00:00\", \"2016-11-15T00:00:00\", \"2016-11-16T00:00:00\", \"2016-11-17T00:00:00\", \"2016-11-18T00:00:00\", \"2016-11-21T00:00:00\", \"2016-11-22T00:00:00\", \"2016-11-23T00:00:00\", \"2016-11-24T00:00:00\", \"2016-11-25T00:00:00\", \"2016-11-28T00:00:00\", \"2016-11-29T00:00:00\", \"2016-11-30T00:00:00\", \"2016-12-01T00:00:00\", \"2016-12-02T00:00:00\", \"2016-12-05T00:00:00\", \"2016-12-06T00:00:00\", \"2016-12-07T00:00:00\", \"2016-12-08T00:00:00\", \"2016-12-09T00:00:00\", \"2016-12-12T00:00:00\", \"2016-12-13T00:00:00\", \"2016-12-14T00:00:00\", \"2016-12-15T00:00:00\", \"2016-12-16T00:00:00\", \"2016-12-19T00:00:00\", \"2016-12-20T00:00:00\", \"2016-12-21T00:00:00\", \"2016-12-22T00:00:00\", \"2016-12-23T00:00:00\", \"2016-12-26T00:00:00\", \"2016-12-27T00:00:00\", \"2016-12-28T00:00:00\", \"2016-12-29T00:00:00\", \"2016-12-30T00:00:00\"], \"xaxis\": \"x\", \"y\": [2170.840087890625, 2157.030029296875, 2163.7900390625, 2164.25, 2182.8701171875, 2180.889892578125, 2181.739990234375, 2175.489990234375, 2185.7900390625, 2184.050048828125, 2190.14990234375, 2178.14990234375, 2182.219970703125, 2187.02001953125, 2183.8701171875, 2182.639892578125, 2186.89990234375, 2175.43994140625, 2172.469970703125, 2169.0400390625, 2180.3798828125, 2176.1201171875, 2170.949951171875, 2170.860107421875, 2179.97998046875, 2187.446578445401, 2186.47998046875, 2186.159912109375, 2181.300048828125, 2127.81005859375, 2159.0400390625, 2127.02001953125, 2125.77001953125, 2147.260009765625, 2139.159912109375, 2139.1201171875, 2139.760009765625, 2163.1201171875, 2177.179931640625, 2164.68994140625, 2146.10009765625, 2159.929931640625, 2171.3701171875, 2151.1298828125, 2168.27001953125, 2161.199951171875, 2150.489990234375, 2159.72998046875, 2160.77001953125, 2153.739990234375, 2163.659912109375, 2136.72998046875, 2139.179931640625, 2132.550048828125, 2132.97998046875, 2126.5, 2139.60009765625, 2144.2900390625, 2141.340087890625, 2141.159912109375, 2151.330078125, 2143.159912109375, 2139.429931640625, 2133.0400390625, 2126.409912109375, 2126.14990234375, 2111.719970703125, 2097.93994140625, 2088.659912109375, 2085.179931640625, 2131.52001953125, 2139.56005859375, 2163.260009765625, 2167.47998046875, 2164.449951171875, 2164.199951171875, 2180.389892578125, 2176.93994140625, 2187.1201171875, 2181.89990234375, 2198.179931640625, 2202.93994140625, 2204.719970703125, 2209.5900111510655, 2213.35009765625, 2201.719970703125, 2204.659912109375, 2198.81005859375, 2191.080078125, 2191.949951171875, 2204.7099609375, 2212.22998046875, 2241.35009765625, 2246.18994140625, 2259.530029296875, 2256.9599609375, 2271.719970703125, 2253.280029296875, 2262.030029296875, 2258.070068359375, 2262.530029296875, 2270.760009765625, 2265.179931640625, 2260.9599609375, 2263.7900390625, 2279.839572585229, 2268.8798828125, 2249.919921875, 2249.260009765625, 2238.830078125], \"yaxis\": \"y2\"}, {\"mode\": \"text\", \"showlegend\": false, \"text\": [\"<b>Election day</b>\"], \"type\": \"scatter\", \"x\": [\"2016-11-23\"], \"y\": [64925.0]}],\n",
              "                        {\"height\": 500, \"shapes\": [{\"line\": {\"color\": \"Red\", \"dash\": \"dot\", \"width\": 3}, \"type\": \"line\", \"x0\": \"2016-11-8\", \"x1\": \"2016-11-8\", \"xref\": \"x\", \"y0\": 0, \"y1\": 1, \"yref\": \"paper\"}], \"showlegend\": false, \"template\": {\"data\": {\"bar\": [{\"error_x\": {\"color\": \"#2a3f5f\"}, \"error_y\": {\"color\": \"#2a3f5f\"}, \"marker\": {\"line\": {\"color\": \"#E5ECF6\", \"width\": 0.5}}, \"type\": \"bar\"}], \"barpolar\": [{\"marker\": {\"line\": {\"color\": \"#E5ECF6\", \"width\": 0.5}}, \"type\": \"barpolar\"}], \"carpet\": [{\"aaxis\": {\"endlinecolor\": \"#2a3f5f\", \"gridcolor\": \"white\", \"linecolor\": \"white\", \"minorgridcolor\": \"white\", \"startlinecolor\": \"#2a3f5f\"}, \"baxis\": {\"endlinecolor\": \"#2a3f5f\", \"gridcolor\": \"white\", \"linecolor\": \"white\", \"minorgridcolor\": \"white\", \"startlinecolor\": \"#2a3f5f\"}, \"type\": \"carpet\"}], \"choropleth\": [{\"colorbar\": {\"outlinewidth\": 0, \"ticks\": \"\"}, \"type\": \"choropleth\"}], \"contour\": [{\"colorbar\": {\"outlinewidth\": 0, \"ticks\": \"\"}, \"colorscale\": [[0.0, \"#0d0887\"], [0.1111111111111111, \"#46039f\"], [0.2222222222222222, \"#7201a8\"], [0.3333333333333333, \"#9c179e\"], [0.4444444444444444, \"#bd3786\"], [0.5555555555555556, \"#d8576b\"], [0.6666666666666666, \"#ed7953\"], [0.7777777777777778, \"#fb9f3a\"], [0.8888888888888888, \"#fdca26\"], [1.0, \"#f0f921\"]], \"type\": \"contour\"}], \"contourcarpet\": [{\"colorbar\": {\"outlinewidth\": 0, \"ticks\": \"\"}, \"type\": \"contourcarpet\"}], \"heatmap\": [{\"colorbar\": {\"outlinewidth\": 0, \"ticks\": \"\"}, \"colorscale\": [[0.0, \"#0d0887\"], [0.1111111111111111, \"#46039f\"], [0.2222222222222222, \"#7201a8\"], [0.3333333333333333, \"#9c179e\"], [0.4444444444444444, \"#bd3786\"], [0.5555555555555556, \"#d8576b\"], [0.6666666666666666, \"#ed7953\"], [0.7777777777777778, \"#fb9f3a\"], [0.8888888888888888, \"#fdca26\"], [1.0, \"#f0f921\"]], \"type\": \"heatmap\"}], \"heatmapgl\": [{\"colorbar\": {\"outlinewidth\": 0, \"ticks\": \"\"}, \"colorscale\": [[0.0, \"#0d0887\"], [0.1111111111111111, \"#46039f\"], [0.2222222222222222, \"#7201a8\"], [0.3333333333333333, \"#9c179e\"], [0.4444444444444444, \"#bd3786\"], [0.5555555555555556, \"#d8576b\"], [0.6666666666666666, \"#ed7953\"], [0.7777777777777778, \"#fb9f3a\"], [0.8888888888888888, \"#fdca26\"], [1.0, \"#f0f921\"]], \"type\": \"heatmapgl\"}], \"histogram\": [{\"marker\": {\"colorbar\": {\"outlinewidth\": 0, \"ticks\": \"\"}}, \"type\": \"histogram\"}], \"histogram2d\": [{\"colorbar\": {\"outlinewidth\": 0, \"ticks\": \"\"}, \"colorscale\": [[0.0, \"#0d0887\"], [0.1111111111111111, \"#46039f\"], [0.2222222222222222, \"#7201a8\"], [0.3333333333333333, \"#9c179e\"], [0.4444444444444444, \"#bd3786\"], [0.5555555555555556, \"#d8576b\"], [0.6666666666666666, \"#ed7953\"], [0.7777777777777778, \"#fb9f3a\"], [0.8888888888888888, \"#fdca26\"], [1.0, \"#f0f921\"]], \"type\": \"histogram2d\"}], \"histogram2dcontour\": [{\"colorbar\": {\"outlinewidth\": 0, \"ticks\": \"\"}, \"colorscale\": [[0.0, \"#0d0887\"], [0.1111111111111111, \"#46039f\"], [0.2222222222222222, \"#7201a8\"], [0.3333333333333333, \"#9c179e\"], [0.4444444444444444, \"#bd3786\"], [0.5555555555555556, \"#d8576b\"], [0.6666666666666666, \"#ed7953\"], [0.7777777777777778, \"#fb9f3a\"], [0.8888888888888888, \"#fdca26\"], [1.0, \"#f0f921\"]], \"type\": \"histogram2dcontour\"}], \"mesh3d\": [{\"colorbar\": {\"outlinewidth\": 0, \"ticks\": \"\"}, \"type\": \"mesh3d\"}], \"parcoords\": [{\"line\": {\"colorbar\": {\"outlinewidth\": 0, \"ticks\": \"\"}}, \"type\": \"parcoords\"}], \"pie\": [{\"automargin\": true, \"type\": \"pie\"}], \"scatter\": [{\"marker\": {\"colorbar\": {\"outlinewidth\": 0, \"ticks\": \"\"}}, \"type\": \"scatter\"}], \"scatter3d\": [{\"line\": {\"colorbar\": {\"outlinewidth\": 0, \"ticks\": \"\"}}, \"marker\": {\"colorbar\": {\"outlinewidth\": 0, \"ticks\": \"\"}}, \"type\": \"scatter3d\"}], \"scattercarpet\": [{\"marker\": {\"colorbar\": {\"outlinewidth\": 0, \"ticks\": \"\"}}, \"type\": \"scattercarpet\"}], \"scattergeo\": [{\"marker\": {\"colorbar\": {\"outlinewidth\": 0, \"ticks\": \"\"}}, \"type\": \"scattergeo\"}], \"scattergl\": [{\"marker\": {\"colorbar\": {\"outlinewidth\": 0, \"ticks\": \"\"}}, \"type\": \"scattergl\"}], \"scattermapbox\": [{\"marker\": {\"colorbar\": {\"outlinewidth\": 0, \"ticks\": \"\"}}, \"type\": \"scattermapbox\"}], \"scatterpolar\": [{\"marker\": {\"colorbar\": {\"outlinewidth\": 0, \"ticks\": \"\"}}, \"type\": \"scatterpolar\"}], \"scatterpolargl\": [{\"marker\": {\"colorbar\": {\"outlinewidth\": 0, \"ticks\": \"\"}}, \"type\": \"scatterpolargl\"}], \"scatterternary\": [{\"marker\": {\"colorbar\": {\"outlinewidth\": 0, \"ticks\": \"\"}}, \"type\": \"scatterternary\"}], \"surface\": [{\"colorbar\": {\"outlinewidth\": 0, \"ticks\": \"\"}, \"colorscale\": [[0.0, \"#0d0887\"], [0.1111111111111111, \"#46039f\"], [0.2222222222222222, \"#7201a8\"], [0.3333333333333333, \"#9c179e\"], [0.4444444444444444, \"#bd3786\"], [0.5555555555555556, \"#d8576b\"], [0.6666666666666666, \"#ed7953\"], [0.7777777777777778, \"#fb9f3a\"], [0.8888888888888888, \"#fdca26\"], [1.0, \"#f0f921\"]], \"type\": \"surface\"}], \"table\": [{\"cells\": {\"fill\": {\"color\": \"#EBF0F8\"}, \"line\": {\"color\": \"white\"}}, \"header\": {\"fill\": {\"color\": \"#C8D4E3\"}, \"line\": {\"color\": \"white\"}}, \"type\": \"table\"}]}, \"layout\": {\"annotationdefaults\": {\"arrowcolor\": \"#2a3f5f\", \"arrowhead\": 0, \"arrowwidth\": 1}, \"coloraxis\": {\"colorbar\": {\"outlinewidth\": 0, \"ticks\": \"\"}}, \"colorscale\": {\"diverging\": [[0, \"#8e0152\"], [0.1, \"#c51b7d\"], [0.2, \"#de77ae\"], [0.3, \"#f1b6da\"], [0.4, \"#fde0ef\"], [0.5, \"#f7f7f7\"], [0.6, \"#e6f5d0\"], [0.7, \"#b8e186\"], [0.8, \"#7fbc41\"], [0.9, \"#4d9221\"], [1, \"#276419\"]], \"sequential\": [[0.0, \"#0d0887\"], [0.1111111111111111, \"#46039f\"], [0.2222222222222222, \"#7201a8\"], [0.3333333333333333, \"#9c179e\"], [0.4444444444444444, \"#bd3786\"], [0.5555555555555556, \"#d8576b\"], [0.6666666666666666, \"#ed7953\"], [0.7777777777777778, \"#fb9f3a\"], [0.8888888888888888, \"#fdca26\"], [1.0, \"#f0f921\"]], \"sequentialminus\": [[0.0, \"#0d0887\"], [0.1111111111111111, \"#46039f\"], [0.2222222222222222, \"#7201a8\"], [0.3333333333333333, \"#9c179e\"], [0.4444444444444444, \"#bd3786\"], [0.5555555555555556, \"#d8576b\"], [0.6666666666666666, \"#ed7953\"], [0.7777777777777778, \"#fb9f3a\"], [0.8888888888888888, \"#fdca26\"], [1.0, \"#f0f921\"]]}, \"colorway\": [\"#636efa\", \"#EF553B\", \"#00cc96\", \"#ab63fa\", \"#FFA15A\", \"#19d3f3\", \"#FF6692\", \"#B6E880\", \"#FF97FF\", \"#FECB52\"], \"font\": {\"color\": \"#2a3f5f\"}, \"geo\": {\"bgcolor\": \"white\", \"lakecolor\": \"white\", \"landcolor\": \"#E5ECF6\", \"showlakes\": true, \"showland\": true, \"subunitcolor\": \"white\"}, \"hoverlabel\": {\"align\": \"left\"}, \"hovermode\": \"closest\", \"mapbox\": {\"style\": \"light\"}, \"paper_bgcolor\": \"white\", \"plot_bgcolor\": \"#E5ECF6\", \"polar\": {\"angularaxis\": {\"gridcolor\": \"white\", \"linecolor\": \"white\", \"ticks\": \"\"}, \"bgcolor\": \"#E5ECF6\", \"radialaxis\": {\"gridcolor\": \"white\", \"linecolor\": \"white\", \"ticks\": \"\"}}, \"scene\": {\"xaxis\": {\"backgroundcolor\": \"#E5ECF6\", \"gridcolor\": \"white\", \"gridwidth\": 2, \"linecolor\": \"white\", \"showbackground\": true, \"ticks\": \"\", \"zerolinecolor\": \"white\"}, \"yaxis\": {\"backgroundcolor\": \"#E5ECF6\", \"gridcolor\": \"white\", \"gridwidth\": 2, \"linecolor\": \"white\", \"showbackground\": true, \"ticks\": \"\", \"zerolinecolor\": \"white\"}, \"zaxis\": {\"backgroundcolor\": \"#E5ECF6\", \"gridcolor\": \"white\", \"gridwidth\": 2, \"linecolor\": \"white\", \"showbackground\": true, \"ticks\": \"\", \"zerolinecolor\": \"white\"}}, \"shapedefaults\": {\"line\": {\"color\": \"#2a3f5f\"}}, \"ternary\": {\"aaxis\": {\"gridcolor\": \"white\", \"linecolor\": \"white\", \"ticks\": \"\"}, \"baxis\": {\"gridcolor\": \"white\", \"linecolor\": \"white\", \"ticks\": \"\"}, \"bgcolor\": \"#E5ECF6\", \"caxis\": {\"gridcolor\": \"white\", \"linecolor\": \"white\", \"ticks\": \"\"}}, \"title\": {\"x\": 0.05}, \"xaxis\": {\"automargin\": true, \"gridcolor\": \"white\", \"linecolor\": \"white\", \"ticks\": \"\", \"title\": {\"standoff\": 15}, \"zerolinecolor\": \"white\", \"zerolinewidth\": 2}, \"yaxis\": {\"automargin\": true, \"gridcolor\": \"white\", \"linecolor\": \"white\", \"ticks\": \"\", \"title\": {\"standoff\": 15}, \"zerolinecolor\": \"white\", \"zerolinewidth\": 2}}}, \"title\": {\"text\": \"<b>US presidential election</b>\", \"x\": 0.5}, \"width\": 700, \"xaxis\": {\"anchor\": \"y\", \"domain\": [0.0, 0.94], \"title\": {\"text\": \"<b>Day</b>\"}}, \"yaxis\": {\"anchor\": \"x\", \"color\": \"Darkgreen\", \"domain\": [0.0, 1.0], \"title\": {\"text\": \"<b>IBOVESPA</b> \"}}, \"yaxis2\": {\"anchor\": \"x\", \"color\": \"Mediumblue\", \"overlaying\": \"y\", \"side\": \"right\", \"title\": {\"text\": \"<b>S&P 500</b> \"}}},\n",
              "                        {\"responsive\": true}\n",
              "                    ).then(function(){\n",
              "                            \n",
              "var gd = document.getElementById('c31e9e02-7d5f-41e4-a9cd-93a2d4c423eb');\n",
              "var x = new MutationObserver(function (mutations, observer) {{\n",
              "        var display = window.getComputedStyle(gd).display;\n",
              "        if (!display || display === 'none') {{\n",
              "            console.log([gd, 'removed!']);\n",
              "            Plotly.purge(gd);\n",
              "            observer.disconnect();\n",
              "        }}\n",
              "}});\n",
              "\n",
              "// Listen for the removal of the full notebook cells\n",
              "var notebookContainer = gd.closest('#notebook-container');\n",
              "if (notebookContainer) {{\n",
              "    x.observe(notebookContainer, {childList: true});\n",
              "}}\n",
              "\n",
              "// Listen for the clearing of the current output cell\n",
              "var outputEl = gd.closest('.output');\n",
              "if (outputEl) {{\n",
              "    x.observe(outputEl, {childList: true});\n",
              "}}\n",
              "\n",
              "                        })\n",
              "                };\n",
              "                \n",
              "            </script>\n",
              "        </div>\n",
              "</body>\n",
              "</html>"
            ]
          },
          "metadata": {
            "tags": []
          }
        },
        {
          "output_type": "display_data",
          "data": {
            "image/png": "[encoded data removed]",
            "text/plain": [
              "<Figure size 432x288 with 2 Axes>"
            ]
          },
          "metadata": {
            "tags": [],
            "needs_background": "light"
          }
        }
      ]
    },
    {
      "cell_type": "markdown",
      "metadata": {
        "id": "8v25mlQiky6i",
        "colab_type": "text"
      },
      "source": [
        "Diferentemente das últimas duas eleições analisadas, em 2016 a correlação entre o S&P e a IBOV foi negativa: As bolsas performaram em tendências opostas. O S&P teve uma queda forte próximo ao dia da eleição mas teve uma recuperação considerável após a confirmação da vitória de Trump. A IBOV, contudo, teve uma forte alta até proxima ao dia da eleição e uma queda forte logo após a confirmação dos votos. A bolsa brasileira até tentou recuperar no final de dezembro mas caiu forte novamente até o meio de dezembro, onde voltou a se recuperar perto do final do ano.\n"
      ]
    },
    {
      "cell_type": "markdown",
      "metadata": {
        "id": "TghFYvSikz24",
        "colab_type": "text"
      },
      "source": [
        "# Conclusão"
      ]
    },
    {
      "cell_type": "markdown",
      "metadata": {
        "id": "gonn_LwIk2pn",
        "colab_type": "text"
      },
      "source": [
        "Com bases nesses dados, vemos que embora o S&P mostre uma janela de vendas no começo de setembro, a bolsa brasileira pode apresentar surpresas em relação ao exterior. Mesmo que em 2000 e 2008 as bolsas tenham performado perto de uma correlação de 1, em 2016 o oposto ocorreu, e os investidores que optaram por vender seus ativos em setembro, perderam uma pernada de alta até bem próximo das eleições. \n",
        "\n",
        "É importante pontuar, contudo, que isso não quer dizer nada em relação às eleições deste ano, mesmo que nas últimas semanas a correlação entre o S&P e a IBOV estejam negativas (rode o codigo acima para o ano de 2020!), se aproximando do caso de 2016. Esse ano tem sido um ano muito atípico, com a pandemia do COVID, onde as bolsas tiveram uma forte queda em março seguida de uma rápida recuperação onde o S&P já atinge máxima histórica e a IBOV continua travada entre 98 e 105 mil pontos, valores abaixo de antes da pandemia.      \n"
      ]
    }
  ]
}